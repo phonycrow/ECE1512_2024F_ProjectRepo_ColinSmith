{
 "cells": [
  {
   "cell_type": "code",
   "execution_count": 1,
   "metadata": {},
   "outputs": [],
   "source": [
    "%load_ext autoreload\n",
    "%autoreload 2\n",
    "\n",
    "import torch\n",
    "\n",
    "from utils import evaluate, get_daparam, get_dataset, get_network\n",
    "\n",
    "from DataDAM import main_DataDAM\n",
    "\n",
    "class EvaluateArgs():\n",
    "    device = \"cuda:0\"\n",
    "    lr_net = 0.01\n",
    "    epoch_eval_train = 20\n",
    "    batch_train = 256\n",
    "\n",
    "    dsa = False\n",
    "    dc_aug_param = {}\n",
    "\n",
    "class DataDAMArgs():\n",
    "    dataset = 'MNIST'\n",
    "    model = 'ConvNet'\n",
    "    ipc = 10\n",
    "    eval_mode = 'SS'\n",
    "    num_exp = 1\n",
    "    num_eval = 100\n",
    "    epoch_eval_train = 50\n",
    "    Iteration = 10\n",
    "    lr_img = 0.1\n",
    "    lr_net = 0.01\n",
    "    batch_real = 256\n",
    "    batch_train = 256\n",
    "    init = 'real'\n",
    "    dsa_strategy = 'color_crop_cutout_flip_scale_rotate'\n",
    "    data_path = 'MNIST/'\n",
    "    zca = False\n",
    "    save_path = 'MNIST_syn/real/'\n",
    "    task_balance = 0.01\n",
    "    method = 'DataDAM'"
   ]
  },
  {
   "cell_type": "markdown",
   "metadata": {},
   "source": [
    "# 2a)"
   ]
  },
  {
   "cell_type": "code",
   "execution_count": 14,
   "metadata": {},
   "outputs": [],
   "source": [
    "evaluate_args = EvaluateArgs()\n",
    "evaluate_args.dc_aug_param = get_daparam('MNIST', 'ConvNet', 'ConvNet', 10)\n",
    "\n",
    "channel, im_size, num_classes, class_names, mean, std, dst_train, dst_test, testloader = get_dataset('MNIST', 'MNIST/')\n",
    "ConvNet_3 = get_network('ConvNet', channel, num_classes, im_size)\n",
    "images_all = [torch.unsqueeze(dst_train[i][0], dim=0) for i in range(len(dst_train))]\n",
    "labels_all = [dst_train[i][1] for i in range(len(dst_train))]\n",
    "images_all = torch.cat(images_all, dim=0)\n",
    "labels_all = torch.tensor(labels_all, dtype=torch.long)"
   ]
  },
  {
   "cell_type": "code",
   "execution_count": 15,
   "metadata": {},
   "outputs": [
    {
     "name": "stdout",
     "output_type": "stream",
     "text": [
      "[2024-10-31 19:24:27] Evaluate_00: epoch = 0020 train time = 373 s train loss = 0.027788 train acc = 0.9923, test acc = 0.9954\n"
     ]
    }
   ],
   "source": [
    "_, acc_train, acc_test = evaluate(0, ConvNet_3, images_all, labels_all, testloader, args = evaluate_args)"
   ]
  },
  {
   "cell_type": "markdown",
   "metadata": {},
   "source": [
    "# 2b)"
   ]
  },
  {
   "cell_type": "code",
   "execution_count": 5,
   "metadata": {},
   "outputs": [
    {
     "name": "stdout",
     "output_type": "stream",
     "text": [
      "eval_it_pool:  [0]\n",
      "\n",
      "================== Exp 0 ==================\n",
      " \n",
      "Hyper-parameters: \n",
      " {'method': 'DataDAM', 'device': 'cuda', 'dsa_param': <DataDAM.utils.ParamDiffAug object at 0x0000027DF718A980>, 'dsa': True}\n",
      "Evaluation model pool:  ['ConvNet']\n",
      "class c = 0: 5923 real images\n",
      "class c = 1: 6742 real images\n",
      "class c = 2: 5958 real images\n",
      "class c = 3: 6131 real images\n",
      "class c = 4: 5842 real images\n",
      "class c = 5: 5421 real images\n",
      "class c = 6: 5918 real images\n",
      "class c = 7: 6265 real images\n",
      "class c = 8: 5851 real images\n",
      "class c = 9: 5949 real images\n",
      "real images channel 0, mean = -0.0001, std = 1.0000\n",
      "initialize synthetic data from random real images\n",
      "[2024-11-01 09:57:45] training begins\n",
      "-------------------------\n",
      "Evaluation\n",
      "model_train = ConvNet, model_eval = ConvNet, iteration = 0\n",
      "DSA augmentation strategy: \n",
      " color_crop_cutout_flip_scale_rotate\n",
      "DSA augmentation parameters: \n",
      " {'aug_mode': 'S', 'prob_flip': 0.5, 'ratio_scale': 1.2, 'ratio_rotate': 15.0, 'ratio_crop_pad': 0.125, 'ratio_cutout': 0.5, 'brightness': 1.0, 'saturation': 2.0, 'contrast': 0.5}\n"
     ]
    },
    {
     "name": "stderr",
     "output_type": "stream",
     "text": [
      "100%|██████████| 51/51 [00:00<00:00, 60.86it/s]\n"
     ]
    },
    {
     "name": "stdout",
     "output_type": "stream",
     "text": [
      "[2024-11-01 09:57:48] Evaluate_00: epoch = 0050 train time = 0 s train loss = 0.883926 train acc = 0.7200, test acc = 0.8825\n"
     ]
    },
    {
     "name": "stderr",
     "output_type": "stream",
     "text": [
      "100%|██████████| 51/51 [00:00<00:00, 63.70it/s]\n"
     ]
    },
    {
     "name": "stdout",
     "output_type": "stream",
     "text": [
      "[2024-11-01 09:57:51] Evaluate_01: epoch = 0050 train time = 0 s train loss = 0.218207 train acc = 0.9800, test acc = 0.8837\n"
     ]
    },
    {
     "name": "stderr",
     "output_type": "stream",
     "text": [
      "100%|██████████| 51/51 [00:00<00:00, 63.40it/s]\n"
     ]
    },
    {
     "name": "stdout",
     "output_type": "stream",
     "text": [
      "[2024-11-01 09:57:53] Evaluate_02: epoch = 0050 train time = 0 s train loss = 0.229361 train acc = 0.9600, test acc = 0.8869\n"
     ]
    },
    {
     "name": "stderr",
     "output_type": "stream",
     "text": [
      "100%|██████████| 51/51 [00:00<00:00, 64.65it/s]\n"
     ]
    },
    {
     "name": "stdout",
     "output_type": "stream",
     "text": [
      "[2024-11-01 09:57:55] Evaluate_03: epoch = 0050 train time = 0 s train loss = 0.510800 train acc = 0.8300, test acc = 0.8827\n"
     ]
    },
    {
     "name": "stderr",
     "output_type": "stream",
     "text": [
      "100%|██████████| 51/51 [00:00<00:00, 64.52it/s]\n"
     ]
    },
    {
     "name": "stdout",
     "output_type": "stream",
     "text": [
      "[2024-11-01 09:57:57] Evaluate_04: epoch = 0050 train time = 0 s train loss = 0.156587 train acc = 1.0000, test acc = 0.8997\n"
     ]
    },
    {
     "name": "stderr",
     "output_type": "stream",
     "text": [
      "100%|██████████| 51/51 [00:00<00:00, 65.60it/s]\n"
     ]
    },
    {
     "name": "stdout",
     "output_type": "stream",
     "text": [
      "[2024-11-01 09:57:59] Evaluate_05: epoch = 0050 train time = 0 s train loss = 1.111641 train acc = 0.7300, test acc = 0.8964\n"
     ]
    },
    {
     "name": "stderr",
     "output_type": "stream",
     "text": [
      "100%|██████████| 51/51 [00:00<00:00, 66.14it/s]\n"
     ]
    },
    {
     "name": "stdout",
     "output_type": "stream",
     "text": [
      "[2024-11-01 09:58:02] Evaluate_06: epoch = 0050 train time = 0 s train loss = 0.159970 train acc = 1.0000, test acc = 0.8726\n"
     ]
    },
    {
     "name": "stderr",
     "output_type": "stream",
     "text": [
      "100%|██████████| 51/51 [00:00<00:00, 62.47it/s]\n"
     ]
    },
    {
     "name": "stdout",
     "output_type": "stream",
     "text": [
      "[2024-11-01 09:58:04] Evaluate_07: epoch = 0050 train time = 0 s train loss = 0.177874 train acc = 1.0000, test acc = 0.8776\n"
     ]
    },
    {
     "name": "stderr",
     "output_type": "stream",
     "text": [
      "100%|██████████| 51/51 [00:00<00:00, 66.25it/s]\n"
     ]
    },
    {
     "name": "stdout",
     "output_type": "stream",
     "text": [
      "[2024-11-01 09:58:06] Evaluate_08: epoch = 0050 train time = 0 s train loss = 1.162119 train acc = 0.6400, test acc = 0.8861\n"
     ]
    },
    {
     "name": "stderr",
     "output_type": "stream",
     "text": [
      "100%|██████████| 51/51 [00:00<00:00, 65.67it/s]\n"
     ]
    },
    {
     "name": "stdout",
     "output_type": "stream",
     "text": [
      "[2024-11-01 09:58:08] Evaluate_09: epoch = 0050 train time = 0 s train loss = 0.371199 train acc = 0.9100, test acc = 0.8971\n"
     ]
    },
    {
     "name": "stderr",
     "output_type": "stream",
     "text": [
      "100%|██████████| 51/51 [00:00<00:00, 58.70it/s]\n"
     ]
    },
    {
     "name": "stdout",
     "output_type": "stream",
     "text": [
      "[2024-11-01 09:58:10] Evaluate_10: epoch = 0050 train time = 0 s train loss = 0.978811 train acc = 0.6900, test acc = 0.8995\n"
     ]
    },
    {
     "name": "stderr",
     "output_type": "stream",
     "text": [
      "100%|██████████| 51/51 [00:00<00:00, 65.03it/s]\n"
     ]
    },
    {
     "name": "stdout",
     "output_type": "stream",
     "text": [
      "[2024-11-01 09:58:12] Evaluate_11: epoch = 0050 train time = 0 s train loss = 0.205589 train acc = 0.9900, test acc = 0.8876\n"
     ]
    },
    {
     "name": "stderr",
     "output_type": "stream",
     "text": [
      "100%|██████████| 51/51 [00:00<00:00, 66.11it/s]\n"
     ]
    },
    {
     "name": "stdout",
     "output_type": "stream",
     "text": [
      "[2024-11-01 09:58:15] Evaluate_12: epoch = 0050 train time = 0 s train loss = 1.154847 train acc = 0.6000, test acc = 0.8746\n"
     ]
    },
    {
     "name": "stderr",
     "output_type": "stream",
     "text": [
      "100%|██████████| 51/51 [00:00<00:00, 70.44it/s]\n"
     ]
    },
    {
     "name": "stdout",
     "output_type": "stream",
     "text": [
      "[2024-11-01 09:58:17] Evaluate_13: epoch = 0050 train time = 0 s train loss = 1.044170 train acc = 0.6800, test acc = 0.8914\n"
     ]
    },
    {
     "name": "stderr",
     "output_type": "stream",
     "text": [
      "100%|██████████| 51/51 [00:00<00:00, 65.09it/s]\n"
     ]
    },
    {
     "name": "stdout",
     "output_type": "stream",
     "text": [
      "[2024-11-01 09:58:19] Evaluate_14: epoch = 0050 train time = 0 s train loss = 0.157010 train acc = 1.0000, test acc = 0.8893\n"
     ]
    },
    {
     "name": "stderr",
     "output_type": "stream",
     "text": [
      "100%|██████████| 51/51 [00:00<00:00, 70.24it/s]\n"
     ]
    },
    {
     "name": "stdout",
     "output_type": "stream",
     "text": [
      "[2024-11-01 09:58:21] Evaluate_15: epoch = 0050 train time = 0 s train loss = 0.513121 train acc = 0.8500, test acc = 0.8897\n"
     ]
    },
    {
     "name": "stderr",
     "output_type": "stream",
     "text": [
      "100%|██████████| 51/51 [00:00<00:00, 64.07it/s]\n"
     ]
    },
    {
     "name": "stdout",
     "output_type": "stream",
     "text": [
      "[2024-11-01 09:58:23] Evaluate_16: epoch = 0050 train time = 0 s train loss = 0.487478 train acc = 0.8300, test acc = 0.8923\n"
     ]
    },
    {
     "name": "stderr",
     "output_type": "stream",
     "text": [
      "100%|██████████| 51/51 [00:00<00:00, 61.74it/s]\n"
     ]
    },
    {
     "name": "stdout",
     "output_type": "stream",
     "text": [
      "[2024-11-01 09:58:25] Evaluate_17: epoch = 0050 train time = 0 s train loss = 0.539623 train acc = 0.8300, test acc = 0.8677\n"
     ]
    },
    {
     "name": "stderr",
     "output_type": "stream",
     "text": [
      "100%|██████████| 51/51 [00:00<00:00, 63.91it/s]\n"
     ]
    },
    {
     "name": "stdout",
     "output_type": "stream",
     "text": [
      "[2024-11-01 09:58:27] Evaluate_18: epoch = 0050 train time = 0 s train loss = 1.097214 train acc = 0.6100, test acc = 0.8907\n"
     ]
    },
    {
     "name": "stderr",
     "output_type": "stream",
     "text": [
      "100%|██████████| 51/51 [00:00<00:00, 68.36it/s]\n"
     ]
    },
    {
     "name": "stdout",
     "output_type": "stream",
     "text": [
      "[2024-11-01 09:58:29] Evaluate_19: epoch = 0050 train time = 0 s train loss = 0.272120 train acc = 0.9500, test acc = 0.8824\n"
     ]
    },
    {
     "name": "stderr",
     "output_type": "stream",
     "text": [
      "100%|██████████| 51/51 [00:00<00:00, 69.86it/s]\n"
     ]
    },
    {
     "name": "stdout",
     "output_type": "stream",
     "text": [
      "[2024-11-01 09:58:31] Evaluate_20: epoch = 0050 train time = 0 s train loss = 0.190723 train acc = 0.9600, test acc = 0.8957\n"
     ]
    },
    {
     "name": "stderr",
     "output_type": "stream",
     "text": [
      "100%|██████████| 51/51 [00:00<00:00, 70.58it/s]\n"
     ]
    },
    {
     "name": "stdout",
     "output_type": "stream",
     "text": [
      "[2024-11-01 09:58:33] Evaluate_21: epoch = 0050 train time = 0 s train loss = 1.259434 train acc = 0.6100, test acc = 0.8935\n"
     ]
    },
    {
     "name": "stderr",
     "output_type": "stream",
     "text": [
      "100%|██████████| 51/51 [00:00<00:00, 69.14it/s]\n"
     ]
    },
    {
     "name": "stdout",
     "output_type": "stream",
     "text": [
      "[2024-11-01 09:58:35] Evaluate_22: epoch = 0050 train time = 0 s train loss = 0.544411 train acc = 0.8300, test acc = 0.8970\n"
     ]
    },
    {
     "name": "stderr",
     "output_type": "stream",
     "text": [
      "100%|██████████| 51/51 [00:00<00:00, 64.23it/s]\n"
     ]
    },
    {
     "name": "stdout",
     "output_type": "stream",
     "text": [
      "[2024-11-01 09:58:37] Evaluate_23: epoch = 0050 train time = 0 s train loss = 0.145456 train acc = 1.0000, test acc = 0.8921\n"
     ]
    },
    {
     "name": "stderr",
     "output_type": "stream",
     "text": [
      "100%|██████████| 51/51 [00:00<00:00, 65.67it/s]\n"
     ]
    },
    {
     "name": "stdout",
     "output_type": "stream",
     "text": [
      "[2024-11-01 09:58:40] Evaluate_24: epoch = 0050 train time = 0 s train loss = 0.378237 train acc = 0.9300, test acc = 0.8874\n"
     ]
    },
    {
     "name": "stderr",
     "output_type": "stream",
     "text": [
      "100%|██████████| 51/51 [00:00<00:00, 66.81it/s]\n"
     ]
    },
    {
     "name": "stdout",
     "output_type": "stream",
     "text": [
      "[2024-11-01 09:58:42] Evaluate_25: epoch = 0050 train time = 0 s train loss = 0.690093 train acc = 0.7800, test acc = 0.8911\n"
     ]
    },
    {
     "name": "stderr",
     "output_type": "stream",
     "text": [
      "100%|██████████| 51/51 [00:00<00:00, 66.72it/s]\n"
     ]
    },
    {
     "name": "stdout",
     "output_type": "stream",
     "text": [
      "[2024-11-01 09:58:44] Evaluate_26: epoch = 0050 train time = 0 s train loss = 1.066305 train acc = 0.6500, test acc = 0.8817\n"
     ]
    },
    {
     "name": "stderr",
     "output_type": "stream",
     "text": [
      "100%|██████████| 51/51 [00:00<00:00, 69.37it/s]\n"
     ]
    },
    {
     "name": "stdout",
     "output_type": "stream",
     "text": [
      "[2024-11-01 09:58:46] Evaluate_27: epoch = 0050 train time = 0 s train loss = 0.171119 train acc = 1.0000, test acc = 0.8847\n"
     ]
    },
    {
     "name": "stderr",
     "output_type": "stream",
     "text": [
      "100%|██████████| 51/51 [00:00<00:00, 60.35it/s]\n"
     ]
    },
    {
     "name": "stdout",
     "output_type": "stream",
     "text": [
      "[2024-11-01 09:58:48] Evaluate_28: epoch = 0050 train time = 0 s train loss = 0.560261 train acc = 0.8100, test acc = 0.8852\n"
     ]
    },
    {
     "name": "stderr",
     "output_type": "stream",
     "text": [
      "100%|██████████| 51/51 [00:00<00:00, 58.81it/s]\n"
     ]
    },
    {
     "name": "stdout",
     "output_type": "stream",
     "text": [
      "[2024-11-01 09:58:50] Evaluate_29: epoch = 0050 train time = 0 s train loss = 0.159854 train acc = 1.0000, test acc = 0.8937\n"
     ]
    },
    {
     "name": "stderr",
     "output_type": "stream",
     "text": [
      "100%|██████████| 51/51 [00:00<00:00, 52.55it/s]\n"
     ]
    },
    {
     "name": "stdout",
     "output_type": "stream",
     "text": [
      "[2024-11-01 09:58:53] Evaluate_30: epoch = 0050 train time = 0 s train loss = 0.508767 train acc = 0.8400, test acc = 0.8903\n"
     ]
    },
    {
     "name": "stderr",
     "output_type": "stream",
     "text": [
      "100%|██████████| 51/51 [00:00<00:00, 52.71it/s]\n"
     ]
    },
    {
     "name": "stdout",
     "output_type": "stream",
     "text": [
      "[2024-11-01 09:58:55] Evaluate_31: epoch = 0050 train time = 0 s train loss = 0.225988 train acc = 0.9600, test acc = 0.9005\n"
     ]
    },
    {
     "name": "stderr",
     "output_type": "stream",
     "text": [
      "100%|██████████| 51/51 [00:00<00:00, 55.38it/s]\n"
     ]
    },
    {
     "name": "stdout",
     "output_type": "stream",
     "text": [
      "[2024-11-01 09:58:58] Evaluate_32: epoch = 0050 train time = 0 s train loss = 1.161192 train acc = 0.6200, test acc = 0.8763\n"
     ]
    },
    {
     "name": "stderr",
     "output_type": "stream",
     "text": [
      "100%|██████████| 51/51 [00:00<00:00, 55.31it/s]\n"
     ]
    },
    {
     "name": "stdout",
     "output_type": "stream",
     "text": [
      "[2024-11-01 09:59:00] Evaluate_33: epoch = 0050 train time = 0 s train loss = 0.218914 train acc = 0.9700, test acc = 0.8856\n"
     ]
    },
    {
     "name": "stderr",
     "output_type": "stream",
     "text": [
      "100%|██████████| 51/51 [00:00<00:00, 54.06it/s]\n"
     ]
    },
    {
     "name": "stdout",
     "output_type": "stream",
     "text": [
      "[2024-11-01 09:59:03] Evaluate_34: epoch = 0050 train time = 0 s train loss = 0.485983 train acc = 0.8800, test acc = 0.8767\n"
     ]
    },
    {
     "name": "stderr",
     "output_type": "stream",
     "text": [
      "100%|██████████| 51/51 [00:00<00:00, 53.70it/s]\n"
     ]
    },
    {
     "name": "stdout",
     "output_type": "stream",
     "text": [
      "[2024-11-01 09:59:05] Evaluate_35: epoch = 0050 train time = 0 s train loss = 0.648470 train acc = 0.7700, test acc = 0.8817\n"
     ]
    },
    {
     "name": "stderr",
     "output_type": "stream",
     "text": [
      "100%|██████████| 51/51 [00:00<00:00, 55.57it/s]\n"
     ]
    },
    {
     "name": "stdout",
     "output_type": "stream",
     "text": [
      "[2024-11-01 09:59:07] Evaluate_36: epoch = 0050 train time = 0 s train loss = 0.223534 train acc = 0.9700, test acc = 0.8853\n"
     ]
    },
    {
     "name": "stderr",
     "output_type": "stream",
     "text": [
      "100%|██████████| 51/51 [00:00<00:00, 62.08it/s]\n"
     ]
    },
    {
     "name": "stdout",
     "output_type": "stream",
     "text": [
      "[2024-11-01 09:59:10] Evaluate_37: epoch = 0050 train time = 0 s train loss = 1.199856 train acc = 0.6000, test acc = 0.8831\n"
     ]
    },
    {
     "name": "stderr",
     "output_type": "stream",
     "text": [
      "100%|██████████| 51/51 [00:00<00:00, 53.35it/s]\n"
     ]
    },
    {
     "name": "stdout",
     "output_type": "stream",
     "text": [
      "[2024-11-01 09:59:12] Evaluate_38: epoch = 0050 train time = 0 s train loss = 0.465545 train acc = 0.8900, test acc = 0.8886\n"
     ]
    },
    {
     "name": "stderr",
     "output_type": "stream",
     "text": [
      "100%|██████████| 51/51 [00:00<00:00, 64.51it/s]\n"
     ]
    },
    {
     "name": "stdout",
     "output_type": "stream",
     "text": [
      "[2024-11-01 09:59:14] Evaluate_39: epoch = 0050 train time = 0 s train loss = 0.136917 train acc = 1.0000, test acc = 0.9042\n"
     ]
    },
    {
     "name": "stderr",
     "output_type": "stream",
     "text": [
      "100%|██████████| 51/51 [00:00<00:00, 62.27it/s]\n"
     ]
    },
    {
     "name": "stdout",
     "output_type": "stream",
     "text": [
      "[2024-11-01 09:59:16] Evaluate_40: epoch = 0050 train time = 0 s train loss = 0.467130 train acc = 0.8900, test acc = 0.8890\n"
     ]
    },
    {
     "name": "stderr",
     "output_type": "stream",
     "text": [
      "100%|██████████| 51/51 [00:00<00:00, 67.01it/s]\n"
     ]
    },
    {
     "name": "stdout",
     "output_type": "stream",
     "text": [
      "[2024-11-01 09:59:18] Evaluate_41: epoch = 0050 train time = 0 s train loss = 0.200753 train acc = 0.9800, test acc = 0.8752\n"
     ]
    },
    {
     "name": "stderr",
     "output_type": "stream",
     "text": [
      "100%|██████████| 51/51 [00:00<00:00, 64.56it/s]\n"
     ]
    },
    {
     "name": "stdout",
     "output_type": "stream",
     "text": [
      "[2024-11-01 09:59:21] Evaluate_42: epoch = 0050 train time = 0 s train loss = 1.230074 train acc = 0.6000, test acc = 0.8864\n"
     ]
    },
    {
     "name": "stderr",
     "output_type": "stream",
     "text": [
      "100%|██████████| 51/51 [00:00<00:00, 61.59it/s]\n"
     ]
    },
    {
     "name": "stdout",
     "output_type": "stream",
     "text": [
      "[2024-11-01 09:59:23] Evaluate_43: epoch = 0050 train time = 0 s train loss = 0.156963 train acc = 1.0000, test acc = 0.8996\n"
     ]
    },
    {
     "name": "stderr",
     "output_type": "stream",
     "text": [
      "100%|██████████| 51/51 [00:00<00:00, 59.03it/s]\n"
     ]
    },
    {
     "name": "stdout",
     "output_type": "stream",
     "text": [
      "[2024-11-01 09:59:25] Evaluate_44: epoch = 0050 train time = 0 s train loss = 0.193736 train acc = 1.0000, test acc = 0.8923\n"
     ]
    },
    {
     "name": "stderr",
     "output_type": "stream",
     "text": [
      "100%|██████████| 51/51 [00:00<00:00, 65.98it/s]\n"
     ]
    },
    {
     "name": "stdout",
     "output_type": "stream",
     "text": [
      "[2024-11-01 09:59:27] Evaluate_45: epoch = 0050 train time = 0 s train loss = 0.215491 train acc = 0.9800, test acc = 0.8858\n"
     ]
    },
    {
     "name": "stderr",
     "output_type": "stream",
     "text": [
      "100%|██████████| 51/51 [00:00<00:00, 64.72it/s]\n"
     ]
    },
    {
     "name": "stdout",
     "output_type": "stream",
     "text": [
      "[2024-11-01 09:59:29] Evaluate_46: epoch = 0050 train time = 0 s train loss = 1.139064 train acc = 0.6400, test acc = 0.8903\n"
     ]
    },
    {
     "name": "stderr",
     "output_type": "stream",
     "text": [
      "100%|██████████| 51/51 [00:00<00:00, 64.89it/s]\n"
     ]
    },
    {
     "name": "stdout",
     "output_type": "stream",
     "text": [
      "[2024-11-01 09:59:31] Evaluate_47: epoch = 0050 train time = 0 s train loss = 0.615082 train acc = 0.8300, test acc = 0.8990\n"
     ]
    },
    {
     "name": "stderr",
     "output_type": "stream",
     "text": [
      "100%|██████████| 51/51 [00:00<00:00, 69.29it/s]\n"
     ]
    },
    {
     "name": "stdout",
     "output_type": "stream",
     "text": [
      "[2024-11-01 09:59:34] Evaluate_48: epoch = 0050 train time = 0 s train loss = 0.517139 train acc = 0.8400, test acc = 0.8867\n"
     ]
    },
    {
     "name": "stderr",
     "output_type": "stream",
     "text": [
      "100%|██████████| 51/51 [00:00<00:00, 62.08it/s]\n"
     ]
    },
    {
     "name": "stdout",
     "output_type": "stream",
     "text": [
      "[2024-11-01 09:59:36] Evaluate_49: epoch = 0050 train time = 0 s train loss = 0.242280 train acc = 0.9800, test acc = 0.8856\n"
     ]
    },
    {
     "name": "stderr",
     "output_type": "stream",
     "text": [
      "100%|██████████| 51/51 [00:00<00:00, 62.04it/s]\n"
     ]
    },
    {
     "name": "stdout",
     "output_type": "stream",
     "text": [
      "[2024-11-01 09:59:38] Evaluate_50: epoch = 0050 train time = 0 s train loss = 0.223554 train acc = 0.9700, test acc = 0.8868\n"
     ]
    },
    {
     "name": "stderr",
     "output_type": "stream",
     "text": [
      "100%|██████████| 51/51 [00:00<00:00, 68.83it/s]\n"
     ]
    },
    {
     "name": "stdout",
     "output_type": "stream",
     "text": [
      "[2024-11-01 09:59:40] Evaluate_51: epoch = 0050 train time = 0 s train loss = 0.155355 train acc = 0.9900, test acc = 0.8983\n"
     ]
    },
    {
     "name": "stderr",
     "output_type": "stream",
     "text": [
      "100%|██████████| 51/51 [00:00<00:00, 70.54it/s]\n"
     ]
    },
    {
     "name": "stdout",
     "output_type": "stream",
     "text": [
      "[2024-11-01 09:59:42] Evaluate_52: epoch = 0050 train time = 0 s train loss = 0.165624 train acc = 1.0000, test acc = 0.8871\n"
     ]
    },
    {
     "name": "stderr",
     "output_type": "stream",
     "text": [
      "100%|██████████| 51/51 [00:00<00:00, 61.86it/s]\n"
     ]
    },
    {
     "name": "stdout",
     "output_type": "stream",
     "text": [
      "[2024-11-01 09:59:44] Evaluate_53: epoch = 0050 train time = 0 s train loss = 0.206736 train acc = 0.9800, test acc = 0.8855\n"
     ]
    },
    {
     "name": "stderr",
     "output_type": "stream",
     "text": [
      "100%|██████████| 51/51 [00:00<00:00, 67.50it/s]\n"
     ]
    },
    {
     "name": "stdout",
     "output_type": "stream",
     "text": [
      "[2024-11-01 09:59:46] Evaluate_54: epoch = 0050 train time = 0 s train loss = 0.125500 train acc = 1.0000, test acc = 0.8950\n"
     ]
    },
    {
     "name": "stderr",
     "output_type": "stream",
     "text": [
      "100%|██████████| 51/51 [00:00<00:00, 68.04it/s]\n"
     ]
    },
    {
     "name": "stdout",
     "output_type": "stream",
     "text": [
      "[2024-11-01 09:59:48] Evaluate_55: epoch = 0050 train time = 0 s train loss = 1.254894 train acc = 0.5800, test acc = 0.8713\n"
     ]
    },
    {
     "name": "stderr",
     "output_type": "stream",
     "text": [
      "100%|██████████| 51/51 [00:00<00:00, 63.55it/s]\n"
     ]
    },
    {
     "name": "stdout",
     "output_type": "stream",
     "text": [
      "[2024-11-01 09:59:50] Evaluate_56: epoch = 0050 train time = 0 s train loss = 0.165472 train acc = 1.0000, test acc = 0.8933\n"
     ]
    },
    {
     "name": "stderr",
     "output_type": "stream",
     "text": [
      "100%|██████████| 51/51 [00:00<00:00, 70.05it/s]\n"
     ]
    },
    {
     "name": "stdout",
     "output_type": "stream",
     "text": [
      "[2024-11-01 09:59:53] Evaluate_57: epoch = 0050 train time = 0 s train loss = 0.728573 train acc = 0.7800, test acc = 0.8891\n"
     ]
    },
    {
     "name": "stderr",
     "output_type": "stream",
     "text": [
      "100%|██████████| 51/51 [00:00<00:00, 64.92it/s]\n"
     ]
    },
    {
     "name": "stdout",
     "output_type": "stream",
     "text": [
      "[2024-11-01 09:59:55] Evaluate_58: epoch = 0050 train time = 0 s train loss = 0.493901 train acc = 0.8600, test acc = 0.8834\n"
     ]
    },
    {
     "name": "stderr",
     "output_type": "stream",
     "text": [
      "100%|██████████| 51/51 [00:00<00:00, 66.75it/s]\n"
     ]
    },
    {
     "name": "stdout",
     "output_type": "stream",
     "text": [
      "[2024-11-01 09:59:57] Evaluate_59: epoch = 0050 train time = 0 s train loss = 1.179354 train acc = 0.6400, test acc = 0.8836\n"
     ]
    },
    {
     "name": "stderr",
     "output_type": "stream",
     "text": [
      "100%|██████████| 51/51 [00:00<00:00, 70.34it/s]\n"
     ]
    },
    {
     "name": "stdout",
     "output_type": "stream",
     "text": [
      "[2024-11-01 09:59:59] Evaluate_60: epoch = 0050 train time = 0 s train loss = 0.185967 train acc = 0.9700, test acc = 0.8931\n"
     ]
    },
    {
     "name": "stderr",
     "output_type": "stream",
     "text": [
      "100%|██████████| 51/51 [00:00<00:00, 71.43it/s]\n"
     ]
    },
    {
     "name": "stdout",
     "output_type": "stream",
     "text": [
      "[2024-11-01 10:00:01] Evaluate_61: epoch = 0050 train time = 0 s train loss = 1.167022 train acc = 0.6400, test acc = 0.8889\n"
     ]
    },
    {
     "name": "stderr",
     "output_type": "stream",
     "text": [
      "100%|██████████| 51/51 [00:00<00:00, 65.47it/s]\n"
     ]
    },
    {
     "name": "stdout",
     "output_type": "stream",
     "text": [
      "[2024-11-01 10:00:03] Evaluate_62: epoch = 0050 train time = 0 s train loss = 0.949498 train acc = 0.6900, test acc = 0.8894\n"
     ]
    },
    {
     "name": "stderr",
     "output_type": "stream",
     "text": [
      "100%|██████████| 51/51 [00:00<00:00, 69.01it/s]\n"
     ]
    },
    {
     "name": "stdout",
     "output_type": "stream",
     "text": [
      "[2024-11-01 10:00:05] Evaluate_63: epoch = 0050 train time = 0 s train loss = 0.207951 train acc = 0.9600, test acc = 0.9065\n"
     ]
    },
    {
     "name": "stderr",
     "output_type": "stream",
     "text": [
      "100%|██████████| 51/51 [00:00<00:00, 71.03it/s]\n"
     ]
    },
    {
     "name": "stdout",
     "output_type": "stream",
     "text": [
      "[2024-11-01 10:00:07] Evaluate_64: epoch = 0050 train time = 0 s train loss = 0.206171 train acc = 0.9500, test acc = 0.8948\n"
     ]
    },
    {
     "name": "stderr",
     "output_type": "stream",
     "text": [
      "100%|██████████| 51/51 [00:00<00:00, 71.48it/s]\n"
     ]
    },
    {
     "name": "stdout",
     "output_type": "stream",
     "text": [
      "[2024-11-01 10:00:09] Evaluate_65: epoch = 0050 train time = 0 s train loss = 0.260778 train acc = 0.9500, test acc = 0.8896\n"
     ]
    },
    {
     "name": "stderr",
     "output_type": "stream",
     "text": [
      "100%|██████████| 51/51 [00:00<00:00, 67.46it/s]\n"
     ]
    },
    {
     "name": "stdout",
     "output_type": "stream",
     "text": [
      "[2024-11-01 10:00:11] Evaluate_66: epoch = 0050 train time = 0 s train loss = 0.403173 train acc = 0.9400, test acc = 0.8861\n"
     ]
    },
    {
     "name": "stderr",
     "output_type": "stream",
     "text": [
      "100%|██████████| 51/51 [00:00<00:00, 70.48it/s]\n"
     ]
    },
    {
     "name": "stdout",
     "output_type": "stream",
     "text": [
      "[2024-11-01 10:00:13] Evaluate_67: epoch = 0050 train time = 0 s train loss = 0.466444 train acc = 0.9100, test acc = 0.8851\n"
     ]
    },
    {
     "name": "stderr",
     "output_type": "stream",
     "text": [
      "100%|██████████| 51/51 [00:00<00:00, 63.78it/s]\n"
     ]
    },
    {
     "name": "stdout",
     "output_type": "stream",
     "text": [
      "[2024-11-01 10:00:15] Evaluate_68: epoch = 0050 train time = 0 s train loss = 0.172185 train acc = 1.0000, test acc = 0.8868\n"
     ]
    },
    {
     "name": "stderr",
     "output_type": "stream",
     "text": [
      "100%|██████████| 51/51 [00:00<00:00, 68.85it/s]\n"
     ]
    },
    {
     "name": "stdout",
     "output_type": "stream",
     "text": [
      "[2024-11-01 10:00:17] Evaluate_69: epoch = 0050 train time = 0 s train loss = 0.448301 train acc = 0.8900, test acc = 0.8856\n"
     ]
    },
    {
     "name": "stderr",
     "output_type": "stream",
     "text": [
      "100%|██████████| 51/51 [00:00<00:00, 66.83it/s]\n"
     ]
    },
    {
     "name": "stdout",
     "output_type": "stream",
     "text": [
      "[2024-11-01 10:00:19] Evaluate_70: epoch = 0050 train time = 0 s train loss = 0.159009 train acc = 0.9900, test acc = 0.8901\n"
     ]
    },
    {
     "name": "stderr",
     "output_type": "stream",
     "text": [
      "100%|██████████| 51/51 [00:00<00:00, 68.83it/s]\n"
     ]
    },
    {
     "name": "stdout",
     "output_type": "stream",
     "text": [
      "[2024-11-01 10:00:21] Evaluate_71: epoch = 0050 train time = 0 s train loss = 0.432330 train acc = 0.8800, test acc = 0.8780\n"
     ]
    },
    {
     "name": "stderr",
     "output_type": "stream",
     "text": [
      "100%|██████████| 51/51 [00:00<00:00, 65.54it/s]\n"
     ]
    },
    {
     "name": "stdout",
     "output_type": "stream",
     "text": [
      "[2024-11-01 10:00:24] Evaluate_72: epoch = 0050 train time = 0 s train loss = 0.159729 train acc = 1.0000, test acc = 0.8903\n"
     ]
    },
    {
     "name": "stderr",
     "output_type": "stream",
     "text": [
      "100%|██████████| 51/51 [00:00<00:00, 65.32it/s]\n"
     ]
    },
    {
     "name": "stdout",
     "output_type": "stream",
     "text": [
      "[2024-11-01 10:00:26] Evaluate_73: epoch = 0050 train time = 0 s train loss = 0.719358 train acc = 0.7500, test acc = 0.8865\n"
     ]
    },
    {
     "name": "stderr",
     "output_type": "stream",
     "text": [
      "100%|██████████| 51/51 [00:00<00:00, 67.50it/s]\n"
     ]
    },
    {
     "name": "stdout",
     "output_type": "stream",
     "text": [
      "[2024-11-01 10:00:28] Evaluate_74: epoch = 0050 train time = 0 s train loss = 0.347848 train acc = 0.9300, test acc = 0.8917\n"
     ]
    },
    {
     "name": "stderr",
     "output_type": "stream",
     "text": [
      "100%|██████████| 51/51 [00:00<00:00, 67.68it/s]\n"
     ]
    },
    {
     "name": "stdout",
     "output_type": "stream",
     "text": [
      "[2024-11-01 10:00:30] Evaluate_75: epoch = 0050 train time = 0 s train loss = 0.226489 train acc = 0.9600, test acc = 0.8896\n"
     ]
    },
    {
     "name": "stderr",
     "output_type": "stream",
     "text": [
      "100%|██████████| 51/51 [00:00<00:00, 67.10it/s]\n"
     ]
    },
    {
     "name": "stdout",
     "output_type": "stream",
     "text": [
      "[2024-11-01 10:00:32] Evaluate_76: epoch = 0050 train time = 0 s train loss = 0.247164 train acc = 0.9700, test acc = 0.8838\n"
     ]
    },
    {
     "name": "stderr",
     "output_type": "stream",
     "text": [
      "100%|██████████| 51/51 [00:00<00:00, 67.67it/s]\n"
     ]
    },
    {
     "name": "stdout",
     "output_type": "stream",
     "text": [
      "[2024-11-01 10:00:34] Evaluate_77: epoch = 0050 train time = 0 s train loss = 0.252584 train acc = 0.9700, test acc = 0.8939\n"
     ]
    },
    {
     "name": "stderr",
     "output_type": "stream",
     "text": [
      "100%|██████████| 51/51 [00:00<00:00, 65.28it/s]\n"
     ]
    },
    {
     "name": "stdout",
     "output_type": "stream",
     "text": [
      "[2024-11-01 10:00:36] Evaluate_78: epoch = 0050 train time = 0 s train loss = 0.160799 train acc = 1.0000, test acc = 0.8874\n"
     ]
    },
    {
     "name": "stderr",
     "output_type": "stream",
     "text": [
      "100%|██████████| 51/51 [00:00<00:00, 65.85it/s]\n"
     ]
    },
    {
     "name": "stdout",
     "output_type": "stream",
     "text": [
      "[2024-11-01 10:00:38] Evaluate_79: epoch = 0050 train time = 0 s train loss = 0.439679 train acc = 0.8700, test acc = 0.8887\n"
     ]
    },
    {
     "name": "stderr",
     "output_type": "stream",
     "text": [
      "100%|██████████| 51/51 [00:00<00:00, 70.69it/s]\n"
     ]
    },
    {
     "name": "stdout",
     "output_type": "stream",
     "text": [
      "[2024-11-01 10:00:40] Evaluate_80: epoch = 0050 train time = 0 s train loss = 0.324486 train acc = 0.9200, test acc = 0.8946\n"
     ]
    },
    {
     "name": "stderr",
     "output_type": "stream",
     "text": [
      "100%|██████████| 51/51 [00:00<00:00, 71.22it/s]\n"
     ]
    },
    {
     "name": "stdout",
     "output_type": "stream",
     "text": [
      "[2024-11-01 10:00:42] Evaluate_81: epoch = 0050 train time = 0 s train loss = 0.965861 train acc = 0.6800, test acc = 0.8798\n"
     ]
    },
    {
     "name": "stderr",
     "output_type": "stream",
     "text": [
      "100%|██████████| 51/51 [00:00<00:00, 66.93it/s]\n"
     ]
    },
    {
     "name": "stdout",
     "output_type": "stream",
     "text": [
      "[2024-11-01 10:00:44] Evaluate_82: epoch = 0050 train time = 0 s train loss = 0.240882 train acc = 0.9700, test acc = 0.8960\n"
     ]
    },
    {
     "name": "stderr",
     "output_type": "stream",
     "text": [
      "100%|██████████| 51/51 [00:00<00:00, 71.22it/s]\n"
     ]
    },
    {
     "name": "stdout",
     "output_type": "stream",
     "text": [
      "[2024-11-01 10:00:46] Evaluate_83: epoch = 0050 train time = 0 s train loss = 0.587695 train acc = 0.8100, test acc = 0.8862\n"
     ]
    },
    {
     "name": "stderr",
     "output_type": "stream",
     "text": [
      "100%|██████████| 51/51 [00:00<00:00, 68.55it/s]\n"
     ]
    },
    {
     "name": "stdout",
     "output_type": "stream",
     "text": [
      "[2024-11-01 10:00:48] Evaluate_84: epoch = 0050 train time = 0 s train loss = 0.326647 train acc = 0.9200, test acc = 0.9010\n"
     ]
    },
    {
     "name": "stderr",
     "output_type": "stream",
     "text": [
      "100%|██████████| 51/51 [00:00<00:00, 70.72it/s]\n"
     ]
    },
    {
     "name": "stdout",
     "output_type": "stream",
     "text": [
      "[2024-11-01 10:00:50] Evaluate_85: epoch = 0050 train time = 0 s train loss = 1.163583 train acc = 0.6400, test acc = 0.8789\n"
     ]
    },
    {
     "name": "stderr",
     "output_type": "stream",
     "text": [
      "100%|██████████| 51/51 [00:00<00:00, 67.19it/s]\n"
     ]
    },
    {
     "name": "stdout",
     "output_type": "stream",
     "text": [
      "[2024-11-01 10:00:52] Evaluate_86: epoch = 0050 train time = 0 s train loss = 0.391742 train acc = 0.9000, test acc = 0.9026\n"
     ]
    },
    {
     "name": "stderr",
     "output_type": "stream",
     "text": [
      "100%|██████████| 51/51 [00:00<00:00, 65.72it/s]\n"
     ]
    },
    {
     "name": "stdout",
     "output_type": "stream",
     "text": [
      "[2024-11-01 10:00:54] Evaluate_87: epoch = 0050 train time = 0 s train loss = 0.162242 train acc = 0.9900, test acc = 0.8925\n"
     ]
    },
    {
     "name": "stderr",
     "output_type": "stream",
     "text": [
      "100%|██████████| 51/51 [00:00<00:00, 61.61it/s]\n"
     ]
    },
    {
     "name": "stdout",
     "output_type": "stream",
     "text": [
      "[2024-11-01 10:00:57] Evaluate_88: epoch = 0050 train time = 0 s train loss = 1.153871 train acc = 0.6200, test acc = 0.8816\n"
     ]
    },
    {
     "name": "stderr",
     "output_type": "stream",
     "text": [
      "100%|██████████| 51/51 [00:00<00:00, 63.71it/s]\n"
     ]
    },
    {
     "name": "stdout",
     "output_type": "stream",
     "text": [
      "[2024-11-01 10:00:59] Evaluate_89: epoch = 0050 train time = 0 s train loss = 0.606382 train acc = 0.8100, test acc = 0.8952\n"
     ]
    },
    {
     "name": "stderr",
     "output_type": "stream",
     "text": [
      "100%|██████████| 51/51 [00:00<00:00, 63.80it/s]\n"
     ]
    },
    {
     "name": "stdout",
     "output_type": "stream",
     "text": [
      "[2024-11-01 10:01:01] Evaluate_90: epoch = 0050 train time = 0 s train loss = 0.223365 train acc = 0.9700, test acc = 0.8897\n"
     ]
    },
    {
     "name": "stderr",
     "output_type": "stream",
     "text": [
      "100%|██████████| 51/51 [00:00<00:00, 64.48it/s]\n"
     ]
    },
    {
     "name": "stdout",
     "output_type": "stream",
     "text": [
      "[2024-11-01 10:01:03] Evaluate_91: epoch = 0050 train time = 0 s train loss = 0.570530 train acc = 0.8300, test acc = 0.8882\n"
     ]
    },
    {
     "name": "stderr",
     "output_type": "stream",
     "text": [
      "100%|██████████| 51/51 [00:00<00:00, 66.66it/s]\n"
     ]
    },
    {
     "name": "stdout",
     "output_type": "stream",
     "text": [
      "[2024-11-01 10:01:05] Evaluate_92: epoch = 0050 train time = 0 s train loss = 0.996279 train acc = 0.6700, test acc = 0.8897\n"
     ]
    },
    {
     "name": "stderr",
     "output_type": "stream",
     "text": [
      "100%|██████████| 51/51 [00:00<00:00, 66.75it/s]\n"
     ]
    },
    {
     "name": "stdout",
     "output_type": "stream",
     "text": [
      "[2024-11-01 10:01:07] Evaluate_93: epoch = 0050 train time = 0 s train loss = 0.368448 train acc = 0.9000, test acc = 0.8967\n"
     ]
    },
    {
     "name": "stderr",
     "output_type": "stream",
     "text": [
      "100%|██████████| 51/51 [00:00<00:00, 65.47it/s]\n"
     ]
    },
    {
     "name": "stdout",
     "output_type": "stream",
     "text": [
      "[2024-11-01 10:01:09] Evaluate_94: epoch = 0050 train time = 0 s train loss = 0.568849 train acc = 0.8300, test acc = 0.8831\n"
     ]
    },
    {
     "name": "stderr",
     "output_type": "stream",
     "text": [
      "100%|██████████| 51/51 [00:00<00:00, 66.67it/s]\n"
     ]
    },
    {
     "name": "stdout",
     "output_type": "stream",
     "text": [
      "[2024-11-01 10:01:11] Evaluate_95: epoch = 0050 train time = 0 s train loss = 0.223067 train acc = 0.9700, test acc = 0.8921\n"
     ]
    },
    {
     "name": "stderr",
     "output_type": "stream",
     "text": [
      "100%|██████████| 51/51 [00:00<00:00, 67.06it/s]\n"
     ]
    },
    {
     "name": "stdout",
     "output_type": "stream",
     "text": [
      "[2024-11-01 10:01:13] Evaluate_96: epoch = 0050 train time = 0 s train loss = 0.135132 train acc = 1.0000, test acc = 0.8956\n"
     ]
    },
    {
     "name": "stderr",
     "output_type": "stream",
     "text": [
      "100%|██████████| 51/51 [00:00<00:00, 71.63it/s]\n"
     ]
    },
    {
     "name": "stdout",
     "output_type": "stream",
     "text": [
      "[2024-11-01 10:01:15] Evaluate_97: epoch = 0050 train time = 0 s train loss = 0.561218 train acc = 0.8400, test acc = 0.8912\n"
     ]
    },
    {
     "name": "stderr",
     "output_type": "stream",
     "text": [
      "100%|██████████| 51/51 [00:00<00:00, 69.77it/s]\n"
     ]
    },
    {
     "name": "stdout",
     "output_type": "stream",
     "text": [
      "[2024-11-01 10:01:17] Evaluate_98: epoch = 0050 train time = 0 s train loss = 0.141044 train acc = 1.0000, test acc = 0.8850\n"
     ]
    },
    {
     "name": "stderr",
     "output_type": "stream",
     "text": [
      "100%|██████████| 51/51 [00:00<00:00, 71.98it/s]\n"
     ]
    },
    {
     "name": "stdout",
     "output_type": "stream",
     "text": [
      "[2024-11-01 10:01:19] Evaluate_99: epoch = 0050 train time = 0 s train loss = 0.204575 train acc = 0.9700, test acc = 0.8943\n",
      "TOTAL TIME WAS:  21.4317485332489\n",
      "Evaluate 100 random ConvNet, mean = 0.8887 std = 0.0071\n",
      "-------------------------\n",
      "[2024-11-01 10:01:20] iter = 00000, loss = 2.4392\n",
      "[2024-11-01 10:01:35] iter = 00010, loss = 2.4514\n",
      "\n",
      "==================== Final Results ====================\n",
      "\n",
      "Run 1 experiments, train on ConvNet, evaluate 0 random ConvNet, mean  = nan%  std = nan%\n",
      "\n",
      "==================== Maximum Results ====================\n",
      "\n",
      "Run 1 experiments, train on ConvNet, evaluate 100 random ConvNet, mean  = 88.87%  std = 0.71%\n",
      "\n",
      "==================== Top 5 Results ====================\n",
      "\n",
      "Run 1 experiments, train on ConvNet, evaluate 100 random ConvNet, mean  = 90.65%  std = 0.00%\n"
     ]
    }
   ],
   "source": [
    "data_DAM_args = DataDAMArgs()\n",
    "\n",
    "main_DataDAM.main(get_dataset, get_network, data_DAM_args)"
   ]
  },
  {
   "cell_type": "markdown",
   "metadata": {},
   "source": [
    "# 2c)"
   ]
  },
  {
   "cell_type": "code",
   "execution_count": 14,
   "metadata": {},
   "outputs": [
    {
     "name": "stderr",
     "output_type": "stream",
     "text": [
      "C:\\Users\\colin\\AppData\\Local\\Temp\\ipykernel_22372\\2828299819.py:9: FutureWarning: You are using `torch.load` with `weights_only=False` (the current default value), which uses the default pickle module implicitly. It is possible to construct malicious pickle data which will execute arbitrary code during unpickling (See https://github.com/pytorch/pytorch/blob/main/SECURITY.md#untrusted-models for more details). In a future release, the default value for `weights_only` will be flipped to `True`. This limits the functions that could be executed during unpickling. Arbitrary objects will no longer be allowed to be loaded via this mode unless they are explicitly allowlisted by the user via `torch.serialization.add_safe_globals`. We recommend you start setting `weights_only=True` for any use case where you don't have full control of the loaded file. Please open an issue on GitHub for any issues related to this experimental feature.\n",
      "  syn_dict = torch.load(syn_path)\n"
     ]
    },
    {
     "data": {
      "image/png": "[encoded data removed]",
      "text/plain": [
       "<Figure size 640x480 with 1 Axes>"
      ]
     },
     "metadata": {},
     "output_type": "display_data"
    }
   ],
   "source": [
    "import os\n",
    "from torchvision.utils import make_grid\n",
    "\n",
    "from utils import save\n",
    "\n",
    "data_DAM_args = DataDAMArgs()\n",
    "\n",
    "syn_path = os.path.join(data_DAM_args.save_path, 'res_%s_%s_%s_%dipc_.pt'%(data_DAM_args.method, data_DAM_args.dataset, data_DAM_args.model, data_DAM_args.ipc))\n",
    "syn_dict = torch.load(syn_path)\n",
    "\n",
    "image_syn = syn_dict['data'][-1][0]\n",
    "label_syn = syn_dict['data'][-1][1]\n",
    "\n",
    "grid = make_grid(image_syn.detach().cpu())\n",
    "save(grid, './mnist_syn_real.png')"
   ]
  },
  {
   "cell_type": "markdown",
   "metadata": {},
   "source": [
    "# 2d)"
   ]
  },
  {
   "cell_type": "code",
   "execution_count": 7,
   "metadata": {},
   "outputs": [
    {
     "name": "stdout",
     "output_type": "stream",
     "text": [
      "eval_it_pool:  [0]\n",
      "\n",
      "================== Exp 0 ==================\n",
      " \n",
      "Hyper-parameters: \n",
      " {'init': 'noise', 'save_path': 'MNIST_syn/noise/', 'method': 'DataDAM', 'device': 'cuda', 'dsa_param': <DataDAM.utils.ParamDiffAug object at 0x0000027DF718B8B0>, 'dsa': True}\n",
      "Evaluation model pool:  ['ConvNet']\n",
      "class c = 0: 5923 real images\n",
      "class c = 1: 6742 real images\n",
      "class c = 2: 5958 real images\n",
      "class c = 3: 6131 real images\n",
      "class c = 4: 5842 real images\n",
      "class c = 5: 5421 real images\n",
      "class c = 6: 5918 real images\n",
      "class c = 7: 6265 real images\n",
      "class c = 8: 5851 real images\n",
      "class c = 9: 5949 real images\n",
      "real images channel 0, mean = -0.0001, std = 1.0000\n",
      "initialize synthetic data from random noise\n",
      "[2024-11-01 10:02:42] training begins\n",
      "-------------------------\n",
      "Evaluation\n",
      "model_train = ConvNet, model_eval = ConvNet, iteration = 0\n",
      "DSA augmentation strategy: \n",
      " color_crop_cutout_flip_scale_rotate\n",
      "DSA augmentation parameters: \n",
      " {'aug_mode': 'S', 'prob_flip': 0.5, 'ratio_scale': 1.2, 'ratio_rotate': 15.0, 'ratio_crop_pad': 0.125, 'ratio_cutout': 0.5, 'brightness': 1.0, 'saturation': 2.0, 'contrast': 0.5}\n"
     ]
    },
    {
     "name": "stderr",
     "output_type": "stream",
     "text": [
      " 10%|▉         | 5/51 [00:00<00:01, 44.94it/s]c:\\Users\\colin\\AppData\\Local\\Programs\\Python\\Python310\\lib\\site-packages\\torch\\nn\\functional.py:4969: UserWarning: Default grid_sample and affine_grid behavior has changed to align_corners=False since 1.3.0. Please specify align_corners=True if the old behavior is desired. See the documentation of grid_sample for details.\n",
      "  warnings.warn(\n",
      "c:\\Users\\colin\\AppData\\Local\\Programs\\Python\\Python310\\lib\\site-packages\\torch\\nn\\functional.py:4902: UserWarning: Default grid_sample and affine_grid behavior has changed to align_corners=False since 1.3.0. Please specify align_corners=True if the old behavior is desired. See the documentation of grid_sample for details.\n",
      "  warnings.warn(\n",
      "100%|██████████| 51/51 [00:00<00:00, 61.28it/s]\n"
     ]
    },
    {
     "name": "stdout",
     "output_type": "stream",
     "text": [
      "[2024-11-01 10:02:44] Evaluate_00: epoch = 0050 train time = 0 s train loss = 1.473259 train acc = 0.7000, test acc = 0.1005\n"
     ]
    },
    {
     "name": "stderr",
     "output_type": "stream",
     "text": [
      "100%|██████████| 51/51 [00:00<00:00, 66.30it/s]\n"
     ]
    },
    {
     "name": "stdout",
     "output_type": "stream",
     "text": [
      "[2024-11-01 10:02:47] Evaluate_01: epoch = 0050 train time = 0 s train loss = 0.617494 train acc = 0.9900, test acc = 0.0663\n"
     ]
    },
    {
     "name": "stderr",
     "output_type": "stream",
     "text": [
      "100%|██████████| 51/51 [00:00<00:00, 65.72it/s]\n"
     ]
    },
    {
     "name": "stdout",
     "output_type": "stream",
     "text": [
      "[2024-11-01 10:02:49] Evaluate_02: epoch = 0050 train time = 0 s train loss = 1.032112 train acc = 0.8400, test acc = 0.0780\n"
     ]
    },
    {
     "name": "stderr",
     "output_type": "stream",
     "text": [
      "100%|██████████| 51/51 [00:00<00:00, 65.13it/s]\n"
     ]
    },
    {
     "name": "stdout",
     "output_type": "stream",
     "text": [
      "[2024-11-01 10:02:51] Evaluate_03: epoch = 0050 train time = 0 s train loss = 0.555132 train acc = 1.0000, test acc = 0.0859\n"
     ]
    },
    {
     "name": "stderr",
     "output_type": "stream",
     "text": [
      "100%|██████████| 51/51 [00:00<00:00, 62.54it/s]\n"
     ]
    },
    {
     "name": "stdout",
     "output_type": "stream",
     "text": [
      "[2024-11-01 10:02:53] Evaluate_04: epoch = 0050 train time = 0 s train loss = 0.989524 train acc = 0.8400, test acc = 0.0531\n"
     ]
    },
    {
     "name": "stderr",
     "output_type": "stream",
     "text": [
      "100%|██████████| 51/51 [00:00<00:00, 63.75it/s]\n"
     ]
    },
    {
     "name": "stdout",
     "output_type": "stream",
     "text": [
      "[2024-11-01 10:02:55] Evaluate_05: epoch = 0050 train time = 0 s train loss = 0.536556 train acc = 0.9800, test acc = 0.0817\n"
     ]
    },
    {
     "name": "stderr",
     "output_type": "stream",
     "text": [
      "100%|██████████| 51/51 [00:00<00:00, 66.06it/s]\n"
     ]
    },
    {
     "name": "stdout",
     "output_type": "stream",
     "text": [
      "[2024-11-01 10:02:57] Evaluate_06: epoch = 0050 train time = 0 s train loss = 1.058543 train acc = 0.8400, test acc = 0.1186\n"
     ]
    },
    {
     "name": "stderr",
     "output_type": "stream",
     "text": [
      "100%|██████████| 51/51 [00:00<00:00, 66.05it/s]\n"
     ]
    },
    {
     "name": "stdout",
     "output_type": "stream",
     "text": [
      "[2024-11-01 10:02:59] Evaluate_07: epoch = 0050 train time = 0 s train loss = 1.300901 train acc = 0.6100, test acc = 0.0779\n"
     ]
    },
    {
     "name": "stderr",
     "output_type": "stream",
     "text": [
      "100%|██████████| 51/51 [00:00<00:00, 66.40it/s]\n"
     ]
    },
    {
     "name": "stdout",
     "output_type": "stream",
     "text": [
      "[2024-11-01 10:03:01] Evaluate_08: epoch = 0050 train time = 0 s train loss = 1.039535 train acc = 0.8000, test acc = 0.0638\n"
     ]
    },
    {
     "name": "stderr",
     "output_type": "stream",
     "text": [
      "100%|██████████| 51/51 [00:00<00:00, 66.15it/s]\n"
     ]
    },
    {
     "name": "stdout",
     "output_type": "stream",
     "text": [
      "[2024-11-01 10:03:03] Evaluate_09: epoch = 0050 train time = 0 s train loss = 0.991553 train acc = 0.8700, test acc = 0.1321\n"
     ]
    },
    {
     "name": "stderr",
     "output_type": "stream",
     "text": [
      "100%|██████████| 51/51 [00:00<00:00, 66.67it/s]\n"
     ]
    },
    {
     "name": "stdout",
     "output_type": "stream",
     "text": [
      "[2024-11-01 10:03:06] Evaluate_10: epoch = 0050 train time = 0 s train loss = 0.905187 train acc = 0.8800, test acc = 0.0915\n"
     ]
    },
    {
     "name": "stderr",
     "output_type": "stream",
     "text": [
      "100%|██████████| 51/51 [00:00<00:00, 65.80it/s]\n"
     ]
    },
    {
     "name": "stdout",
     "output_type": "stream",
     "text": [
      "[2024-11-01 10:03:08] Evaluate_11: epoch = 0050 train time = 0 s train loss = 1.137501 train acc = 0.8100, test acc = 0.0715\n"
     ]
    },
    {
     "name": "stderr",
     "output_type": "stream",
     "text": [
      "100%|██████████| 51/51 [00:00<00:00, 63.55it/s]\n"
     ]
    },
    {
     "name": "stdout",
     "output_type": "stream",
     "text": [
      "[2024-11-01 10:03:10] Evaluate_12: epoch = 0050 train time = 0 s train loss = 1.534124 train acc = 0.5900, test acc = 0.0550\n"
     ]
    },
    {
     "name": "stderr",
     "output_type": "stream",
     "text": [
      "100%|██████████| 51/51 [00:00<00:00, 62.09it/s]\n"
     ]
    },
    {
     "name": "stdout",
     "output_type": "stream",
     "text": [
      "[2024-11-01 10:03:12] Evaluate_13: epoch = 0050 train time = 0 s train loss = 1.559141 train acc = 0.6200, test acc = 0.0948\n"
     ]
    },
    {
     "name": "stderr",
     "output_type": "stream",
     "text": [
      "100%|██████████| 51/51 [00:00<00:00, 64.21it/s]\n"
     ]
    },
    {
     "name": "stdout",
     "output_type": "stream",
     "text": [
      "[2024-11-01 10:03:14] Evaluate_14: epoch = 0050 train time = 0 s train loss = 0.725976 train acc = 0.9700, test acc = 0.1205\n"
     ]
    },
    {
     "name": "stderr",
     "output_type": "stream",
     "text": [
      "100%|██████████| 51/51 [00:00<00:00, 65.22it/s]\n"
     ]
    },
    {
     "name": "stdout",
     "output_type": "stream",
     "text": [
      "[2024-11-01 10:03:16] Evaluate_15: epoch = 0050 train time = 0 s train loss = 0.779941 train acc = 0.9800, test acc = 0.0912\n"
     ]
    },
    {
     "name": "stderr",
     "output_type": "stream",
     "text": [
      "100%|██████████| 51/51 [00:00<00:00, 66.40it/s]\n"
     ]
    },
    {
     "name": "stdout",
     "output_type": "stream",
     "text": [
      "[2024-11-01 10:03:18] Evaluate_16: epoch = 0050 train time = 0 s train loss = 0.911399 train acc = 0.9300, test acc = 0.0728\n"
     ]
    },
    {
     "name": "stderr",
     "output_type": "stream",
     "text": [
      "100%|██████████| 51/51 [00:00<00:00, 62.40it/s]\n"
     ]
    },
    {
     "name": "stdout",
     "output_type": "stream",
     "text": [
      "[2024-11-01 10:03:20] Evaluate_17: epoch = 0050 train time = 0 s train loss = 1.559186 train acc = 0.5100, test acc = 0.1068\n"
     ]
    },
    {
     "name": "stderr",
     "output_type": "stream",
     "text": [
      "100%|██████████| 51/51 [00:00<00:00, 59.86it/s]\n"
     ]
    },
    {
     "name": "stdout",
     "output_type": "stream",
     "text": [
      "[2024-11-01 10:03:23] Evaluate_18: epoch = 0050 train time = 0 s train loss = 0.958188 train acc = 0.8400, test acc = 0.0824\n"
     ]
    },
    {
     "name": "stderr",
     "output_type": "stream",
     "text": [
      "100%|██████████| 51/51 [00:00<00:00, 63.20it/s]\n"
     ]
    },
    {
     "name": "stdout",
     "output_type": "stream",
     "text": [
      "[2024-11-01 10:03:25] Evaluate_19: epoch = 0050 train time = 0 s train loss = 1.014258 train acc = 0.8300, test acc = 0.0641\n"
     ]
    },
    {
     "name": "stderr",
     "output_type": "stream",
     "text": [
      "100%|██████████| 51/51 [00:00<00:00, 62.12it/s]\n"
     ]
    },
    {
     "name": "stdout",
     "output_type": "stream",
     "text": [
      "[2024-11-01 10:03:27] Evaluate_20: epoch = 0050 train time = 0 s train loss = 0.983228 train acc = 0.8300, test acc = 0.0771\n"
     ]
    },
    {
     "name": "stderr",
     "output_type": "stream",
     "text": [
      "100%|██████████| 51/51 [00:00<00:00, 61.99it/s]\n"
     ]
    },
    {
     "name": "stdout",
     "output_type": "stream",
     "text": [
      "[2024-11-01 10:03:29] Evaluate_21: epoch = 0050 train time = 0 s train loss = 1.308615 train acc = 0.6100, test acc = 0.0476\n"
     ]
    },
    {
     "name": "stderr",
     "output_type": "stream",
     "text": [
      "100%|██████████| 51/51 [00:00<00:00, 65.82it/s]\n"
     ]
    },
    {
     "name": "stdout",
     "output_type": "stream",
     "text": [
      "[2024-11-01 10:03:31] Evaluate_22: epoch = 0050 train time = 0 s train loss = 0.998085 train acc = 0.8300, test acc = 0.1159\n"
     ]
    },
    {
     "name": "stderr",
     "output_type": "stream",
     "text": [
      "100%|██████████| 51/51 [00:00<00:00, 64.88it/s]\n"
     ]
    },
    {
     "name": "stdout",
     "output_type": "stream",
     "text": [
      "[2024-11-01 10:03:33] Evaluate_23: epoch = 0050 train time = 0 s train loss = 0.497544 train acc = 0.9900, test acc = 0.0837\n"
     ]
    },
    {
     "name": "stderr",
     "output_type": "stream",
     "text": [
      "100%|██████████| 51/51 [00:00<00:00, 64.72it/s]\n"
     ]
    },
    {
     "name": "stdout",
     "output_type": "stream",
     "text": [
      "[2024-11-01 10:03:35] Evaluate_24: epoch = 0050 train time = 0 s train loss = 0.816153 train acc = 0.9500, test acc = 0.0568\n"
     ]
    },
    {
     "name": "stderr",
     "output_type": "stream",
     "text": [
      "100%|██████████| 51/51 [00:00<00:00, 66.30it/s]\n"
     ]
    },
    {
     "name": "stdout",
     "output_type": "stream",
     "text": [
      "[2024-11-01 10:03:37] Evaluate_25: epoch = 0050 train time = 0 s train loss = 0.903244 train acc = 0.9000, test acc = 0.1098\n"
     ]
    },
    {
     "name": "stderr",
     "output_type": "stream",
     "text": [
      "100%|██████████| 51/51 [00:00<00:00, 65.81it/s]\n"
     ]
    },
    {
     "name": "stdout",
     "output_type": "stream",
     "text": [
      "[2024-11-01 10:03:40] Evaluate_26: epoch = 0050 train time = 0 s train loss = 0.890061 train acc = 0.9000, test acc = 0.1023\n"
     ]
    },
    {
     "name": "stderr",
     "output_type": "stream",
     "text": [
      "100%|██████████| 51/51 [00:00<00:00, 64.15it/s]\n"
     ]
    },
    {
     "name": "stdout",
     "output_type": "stream",
     "text": [
      "[2024-11-01 10:03:42] Evaluate_27: epoch = 0050 train time = 0 s train loss = 0.598581 train acc = 0.9900, test acc = 0.0913\n"
     ]
    },
    {
     "name": "stderr",
     "output_type": "stream",
     "text": [
      "100%|██████████| 51/51 [00:00<00:00, 65.17it/s]\n"
     ]
    },
    {
     "name": "stdout",
     "output_type": "stream",
     "text": [
      "[2024-11-01 10:03:44] Evaluate_28: epoch = 0050 train time = 0 s train loss = 1.087317 train acc = 0.8500, test acc = 0.0709\n"
     ]
    },
    {
     "name": "stderr",
     "output_type": "stream",
     "text": [
      "100%|██████████| 51/51 [00:00<00:00, 65.01it/s]\n"
     ]
    },
    {
     "name": "stdout",
     "output_type": "stream",
     "text": [
      "[2024-11-01 10:03:46] Evaluate_29: epoch = 0050 train time = 0 s train loss = 0.915522 train acc = 0.8900, test acc = 0.0830\n"
     ]
    },
    {
     "name": "stderr",
     "output_type": "stream",
     "text": [
      "100%|██████████| 51/51 [00:00<00:00, 65.72it/s]\n"
     ]
    },
    {
     "name": "stdout",
     "output_type": "stream",
     "text": [
      "[2024-11-01 10:03:48] Evaluate_30: epoch = 0050 train time = 0 s train loss = 0.969210 train acc = 0.8900, test acc = 0.1024\n"
     ]
    },
    {
     "name": "stderr",
     "output_type": "stream",
     "text": [
      "100%|██████████| 51/51 [00:00<00:00, 62.29it/s]\n"
     ]
    },
    {
     "name": "stdout",
     "output_type": "stream",
     "text": [
      "[2024-11-01 10:03:50] Evaluate_31: epoch = 0050 train time = 0 s train loss = 0.680058 train acc = 0.9900, test acc = 0.0546\n"
     ]
    },
    {
     "name": "stderr",
     "output_type": "stream",
     "text": [
      "100%|██████████| 51/51 [00:00<00:00, 63.35it/s]\n"
     ]
    },
    {
     "name": "stdout",
     "output_type": "stream",
     "text": [
      "[2024-11-01 10:03:52] Evaluate_32: epoch = 0050 train time = 0 s train loss = 0.909249 train acc = 0.9000, test acc = 0.0620\n"
     ]
    },
    {
     "name": "stderr",
     "output_type": "stream",
     "text": [
      "100%|██████████| 51/51 [00:00<00:00, 59.79it/s]\n"
     ]
    },
    {
     "name": "stdout",
     "output_type": "stream",
     "text": [
      "[2024-11-01 10:03:55] Evaluate_33: epoch = 0050 train time = 0 s train loss = 0.534218 train acc = 0.9800, test acc = 0.0954\n"
     ]
    },
    {
     "name": "stderr",
     "output_type": "stream",
     "text": [
      "100%|██████████| 51/51 [00:00<00:00, 65.55it/s]\n"
     ]
    },
    {
     "name": "stdout",
     "output_type": "stream",
     "text": [
      "[2024-11-01 10:03:57] Evaluate_34: epoch = 0050 train time = 0 s train loss = 0.896049 train acc = 0.8700, test acc = 0.1028\n"
     ]
    },
    {
     "name": "stderr",
     "output_type": "stream",
     "text": [
      "100%|██████████| 51/51 [00:00<00:00, 64.76it/s]\n"
     ]
    },
    {
     "name": "stdout",
     "output_type": "stream",
     "text": [
      "[2024-11-01 10:03:59] Evaluate_35: epoch = 0050 train time = 0 s train loss = 1.170950 train acc = 0.6700, test acc = 0.0848\n"
     ]
    },
    {
     "name": "stderr",
     "output_type": "stream",
     "text": [
      "100%|██████████| 51/51 [00:00<00:00, 64.72it/s]\n"
     ]
    },
    {
     "name": "stdout",
     "output_type": "stream",
     "text": [
      "[2024-11-01 10:04:01] Evaluate_36: epoch = 0050 train time = 0 s train loss = 1.544142 train acc = 0.5600, test acc = 0.0718\n"
     ]
    },
    {
     "name": "stderr",
     "output_type": "stream",
     "text": [
      "100%|██████████| 51/51 [00:00<00:00, 60.99it/s]\n"
     ]
    },
    {
     "name": "stdout",
     "output_type": "stream",
     "text": [
      "[2024-11-01 10:04:03] Evaluate_37: epoch = 0050 train time = 0 s train loss = 1.501556 train acc = 0.6100, test acc = 0.0740\n"
     ]
    },
    {
     "name": "stderr",
     "output_type": "stream",
     "text": [
      "100%|██████████| 51/51 [00:00<00:00, 65.30it/s]\n"
     ]
    },
    {
     "name": "stdout",
     "output_type": "stream",
     "text": [
      "[2024-11-01 10:04:05] Evaluate_38: epoch = 0050 train time = 0 s train loss = 1.523080 train acc = 0.6100, test acc = 0.1059\n"
     ]
    },
    {
     "name": "stderr",
     "output_type": "stream",
     "text": [
      "100%|██████████| 51/51 [00:00<00:00, 66.01it/s]\n"
     ]
    },
    {
     "name": "stdout",
     "output_type": "stream",
     "text": [
      "[2024-11-01 10:04:07] Evaluate_39: epoch = 0050 train time = 0 s train loss = 0.942634 train acc = 0.8900, test acc = 0.1041\n"
     ]
    },
    {
     "name": "stderr",
     "output_type": "stream",
     "text": [
      "100%|██████████| 51/51 [00:00<00:00, 64.05it/s]\n"
     ]
    },
    {
     "name": "stdout",
     "output_type": "stream",
     "text": [
      "[2024-11-01 10:04:09] Evaluate_40: epoch = 0050 train time = 0 s train loss = 1.493961 train acc = 0.5900, test acc = 0.0888\n"
     ]
    },
    {
     "name": "stderr",
     "output_type": "stream",
     "text": [
      "100%|██████████| 51/51 [00:00<00:00, 66.31it/s]\n"
     ]
    },
    {
     "name": "stdout",
     "output_type": "stream",
     "text": [
      "[2024-11-01 10:04:12] Evaluate_41: epoch = 0050 train time = 0 s train loss = 1.282467 train acc = 0.6300, test acc = 0.0467\n"
     ]
    },
    {
     "name": "stderr",
     "output_type": "stream",
     "text": [
      "100%|██████████| 51/51 [00:00<00:00, 66.06it/s]\n"
     ]
    },
    {
     "name": "stdout",
     "output_type": "stream",
     "text": [
      "[2024-11-01 10:04:14] Evaluate_42: epoch = 0050 train time = 0 s train loss = 0.890284 train acc = 0.8900, test acc = 0.1062\n"
     ]
    },
    {
     "name": "stderr",
     "output_type": "stream",
     "text": [
      "100%|██████████| 51/51 [00:00<00:00, 61.74it/s]\n"
     ]
    },
    {
     "name": "stdout",
     "output_type": "stream",
     "text": [
      "[2024-11-01 10:04:16] Evaluate_43: epoch = 0050 train time = 0 s train loss = 0.679863 train acc = 0.9900, test acc = 0.0876\n"
     ]
    },
    {
     "name": "stderr",
     "output_type": "stream",
     "text": [
      "100%|██████████| 51/51 [00:00<00:00, 65.51it/s]\n"
     ]
    },
    {
     "name": "stdout",
     "output_type": "stream",
     "text": [
      "[2024-11-01 10:04:18] Evaluate_44: epoch = 0050 train time = 0 s train loss = 0.693223 train acc = 1.0000, test acc = 0.1217\n"
     ]
    },
    {
     "name": "stderr",
     "output_type": "stream",
     "text": [
      "100%|██████████| 51/51 [00:00<00:00, 63.72it/s]\n"
     ]
    },
    {
     "name": "stdout",
     "output_type": "stream",
     "text": [
      "[2024-11-01 10:04:20] Evaluate_45: epoch = 0050 train time = 0 s train loss = 1.160778 train acc = 0.6900, test acc = 0.0783\n"
     ]
    },
    {
     "name": "stderr",
     "output_type": "stream",
     "text": [
      "100%|██████████| 51/51 [00:00<00:00, 65.13it/s]\n"
     ]
    },
    {
     "name": "stdout",
     "output_type": "stream",
     "text": [
      "[2024-11-01 10:04:22] Evaluate_46: epoch = 0050 train time = 0 s train loss = 0.619893 train acc = 0.9900, test acc = 0.0704\n"
     ]
    },
    {
     "name": "stderr",
     "output_type": "stream",
     "text": [
      "100%|██████████| 51/51 [00:00<00:00, 62.20it/s]\n"
     ]
    },
    {
     "name": "stdout",
     "output_type": "stream",
     "text": [
      "[2024-11-01 10:04:24] Evaluate_47: epoch = 0050 train time = 0 s train loss = 0.519508 train acc = 1.0000, test acc = 0.1143\n"
     ]
    },
    {
     "name": "stderr",
     "output_type": "stream",
     "text": [
      "100%|██████████| 51/51 [00:00<00:00, 59.16it/s]\n"
     ]
    },
    {
     "name": "stdout",
     "output_type": "stream",
     "text": [
      "[2024-11-01 10:04:27] Evaluate_48: epoch = 0050 train time = 0 s train loss = 0.574934 train acc = 0.9900, test acc = 0.0752\n"
     ]
    },
    {
     "name": "stderr",
     "output_type": "stream",
     "text": [
      "100%|██████████| 51/51 [00:00<00:00, 64.31it/s]\n"
     ]
    },
    {
     "name": "stdout",
     "output_type": "stream",
     "text": [
      "[2024-11-01 10:04:29] Evaluate_49: epoch = 0050 train time = 0 s train loss = 0.455757 train acc = 1.0000, test acc = 0.0726\n"
     ]
    },
    {
     "name": "stderr",
     "output_type": "stream",
     "text": [
      "100%|██████████| 51/51 [00:00<00:00, 64.29it/s]\n"
     ]
    },
    {
     "name": "stdout",
     "output_type": "stream",
     "text": [
      "[2024-11-01 10:04:31] Evaluate_50: epoch = 0050 train time = 0 s train loss = 0.906898 train acc = 0.8800, test acc = 0.0782\n"
     ]
    },
    {
     "name": "stderr",
     "output_type": "stream",
     "text": [
      "100%|██████████| 51/51 [00:00<00:00, 64.88it/s]\n"
     ]
    },
    {
     "name": "stdout",
     "output_type": "stream",
     "text": [
      "[2024-11-01 10:04:33] Evaluate_51: epoch = 0050 train time = 0 s train loss = 0.984670 train acc = 0.8500, test acc = 0.0757\n"
     ]
    },
    {
     "name": "stderr",
     "output_type": "stream",
     "text": [
      "100%|██████████| 51/51 [00:00<00:00, 64.56it/s]\n"
     ]
    },
    {
     "name": "stdout",
     "output_type": "stream",
     "text": [
      "[2024-11-01 10:04:35] Evaluate_52: epoch = 0050 train time = 0 s train loss = 1.157998 train acc = 0.6700, test acc = 0.0788\n"
     ]
    },
    {
     "name": "stderr",
     "output_type": "stream",
     "text": [
      "100%|██████████| 51/51 [00:00<00:00, 63.20it/s]\n"
     ]
    },
    {
     "name": "stdout",
     "output_type": "stream",
     "text": [
      "[2024-11-01 10:04:37] Evaluate_53: epoch = 0050 train time = 0 s train loss = 1.192689 train acc = 0.6300, test acc = 0.0900\n"
     ]
    },
    {
     "name": "stderr",
     "output_type": "stream",
     "text": [
      "100%|██████████| 51/51 [00:00<00:00, 66.58it/s]\n"
     ]
    },
    {
     "name": "stdout",
     "output_type": "stream",
     "text": [
      "[2024-11-01 10:04:40] Evaluate_54: epoch = 0050 train time = 0 s train loss = 1.515046 train acc = 0.5900, test acc = 0.0611\n"
     ]
    },
    {
     "name": "stderr",
     "output_type": "stream",
     "text": [
      "100%|██████████| 51/51 [00:00<00:00, 70.73it/s]\n"
     ]
    },
    {
     "name": "stdout",
     "output_type": "stream",
     "text": [
      "[2024-11-01 10:04:42] Evaluate_55: epoch = 0050 train time = 0 s train loss = 0.944712 train acc = 0.8700, test acc = 0.0723\n"
     ]
    },
    {
     "name": "stderr",
     "output_type": "stream",
     "text": [
      "100%|██████████| 51/51 [00:00<00:00, 69.29it/s]\n"
     ]
    },
    {
     "name": "stdout",
     "output_type": "stream",
     "text": [
      "[2024-11-01 10:04:44] Evaluate_56: epoch = 0050 train time = 0 s train loss = 0.589620 train acc = 0.9900, test acc = 0.0743\n"
     ]
    },
    {
     "name": "stderr",
     "output_type": "stream",
     "text": [
      "100%|██████████| 51/51 [00:00<00:00, 68.79it/s]\n"
     ]
    },
    {
     "name": "stdout",
     "output_type": "stream",
     "text": [
      "[2024-11-01 10:04:46] Evaluate_57: epoch = 0050 train time = 0 s train loss = 0.941267 train acc = 0.9100, test acc = 0.0567\n"
     ]
    },
    {
     "name": "stderr",
     "output_type": "stream",
     "text": [
      "100%|██████████| 51/51 [00:00<00:00, 69.06it/s]\n"
     ]
    },
    {
     "name": "stdout",
     "output_type": "stream",
     "text": [
      "[2024-11-01 10:04:48] Evaluate_58: epoch = 0050 train time = 0 s train loss = 0.726244 train acc = 0.9900, test acc = 0.1022\n"
     ]
    },
    {
     "name": "stderr",
     "output_type": "stream",
     "text": [
      "100%|██████████| 51/51 [00:00<00:00, 58.38it/s]\n"
     ]
    },
    {
     "name": "stdout",
     "output_type": "stream",
     "text": [
      "[2024-11-01 10:04:50] Evaluate_59: epoch = 0050 train time = 0 s train loss = 0.896551 train acc = 0.9200, test acc = 0.1266\n"
     ]
    },
    {
     "name": "stderr",
     "output_type": "stream",
     "text": [
      "100%|██████████| 51/51 [00:00<00:00, 60.18it/s]\n"
     ]
    },
    {
     "name": "stdout",
     "output_type": "stream",
     "text": [
      "[2024-11-01 10:04:52] Evaluate_60: epoch = 0050 train time = 0 s train loss = 0.798007 train acc = 0.9200, test acc = 0.1534\n"
     ]
    },
    {
     "name": "stderr",
     "output_type": "stream",
     "text": [
      "100%|██████████| 51/51 [00:00<00:00, 63.12it/s]\n"
     ]
    },
    {
     "name": "stdout",
     "output_type": "stream",
     "text": [
      "[2024-11-01 10:04:54] Evaluate_61: epoch = 0050 train time = 0 s train loss = 1.600163 train acc = 0.5200, test acc = 0.0870\n"
     ]
    },
    {
     "name": "stderr",
     "output_type": "stream",
     "text": [
      "100%|██████████| 51/51 [00:00<00:00, 61.48it/s]\n"
     ]
    },
    {
     "name": "stdout",
     "output_type": "stream",
     "text": [
      "[2024-11-01 10:04:56] Evaluate_62: epoch = 0050 train time = 0 s train loss = 0.592036 train acc = 0.9800, test acc = 0.0868\n"
     ]
    },
    {
     "name": "stderr",
     "output_type": "stream",
     "text": [
      "100%|██████████| 51/51 [00:00<00:00, 65.51it/s]\n"
     ]
    },
    {
     "name": "stdout",
     "output_type": "stream",
     "text": [
      "[2024-11-01 10:04:58] Evaluate_63: epoch = 0050 train time = 0 s train loss = 0.891392 train acc = 0.8900, test acc = 0.0768\n"
     ]
    },
    {
     "name": "stderr",
     "output_type": "stream",
     "text": [
      "100%|██████████| 51/51 [00:00<00:00, 68.73it/s]\n"
     ]
    },
    {
     "name": "stdout",
     "output_type": "stream",
     "text": [
      "[2024-11-01 10:05:00] Evaluate_64: epoch = 0050 train time = 0 s train loss = 1.329375 train acc = 0.6200, test acc = 0.0553\n"
     ]
    },
    {
     "name": "stderr",
     "output_type": "stream",
     "text": [
      "100%|██████████| 51/51 [00:00<00:00, 68.70it/s]\n"
     ]
    },
    {
     "name": "stdout",
     "output_type": "stream",
     "text": [
      "[2024-11-01 10:05:02] Evaluate_65: epoch = 0050 train time = 0 s train loss = 0.539248 train acc = 0.9900, test acc = 0.0717\n"
     ]
    },
    {
     "name": "stderr",
     "output_type": "stream",
     "text": [
      "100%|██████████| 51/51 [00:00<00:00, 67.19it/s]\n"
     ]
    },
    {
     "name": "stdout",
     "output_type": "stream",
     "text": [
      "[2024-11-01 10:05:05] Evaluate_66: epoch = 0050 train time = 0 s train loss = 0.898101 train acc = 0.9100, test acc = 0.0586\n"
     ]
    },
    {
     "name": "stderr",
     "output_type": "stream",
     "text": [
      "100%|██████████| 51/51 [00:00<00:00, 65.43it/s]\n"
     ]
    },
    {
     "name": "stdout",
     "output_type": "stream",
     "text": [
      "[2024-11-01 10:05:07] Evaluate_67: epoch = 0050 train time = 0 s train loss = 1.013270 train acc = 0.8800, test acc = 0.0499\n"
     ]
    },
    {
     "name": "stderr",
     "output_type": "stream",
     "text": [
      "100%|██████████| 51/51 [00:00<00:00, 66.58it/s]\n"
     ]
    },
    {
     "name": "stdout",
     "output_type": "stream",
     "text": [
      "[2024-11-01 10:05:09] Evaluate_68: epoch = 0050 train time = 0 s train loss = 0.565301 train acc = 1.0000, test acc = 0.0833\n"
     ]
    },
    {
     "name": "stderr",
     "output_type": "stream",
     "text": [
      "100%|██████████| 51/51 [00:00<00:00, 66.75it/s]\n"
     ]
    },
    {
     "name": "stdout",
     "output_type": "stream",
     "text": [
      "[2024-11-01 10:05:11] Evaluate_69: epoch = 0050 train time = 0 s train loss = 1.183587 train acc = 0.6900, test acc = 0.1048\n"
     ]
    },
    {
     "name": "stderr",
     "output_type": "stream",
     "text": [
      "100%|██████████| 51/51 [00:00<00:00, 64.80it/s]\n"
     ]
    },
    {
     "name": "stdout",
     "output_type": "stream",
     "text": [
      "[2024-11-01 10:05:13] Evaluate_70: epoch = 0050 train time = 0 s train loss = 0.522060 train acc = 0.9900, test acc = 0.0319\n"
     ]
    },
    {
     "name": "stderr",
     "output_type": "stream",
     "text": [
      "100%|██████████| 51/51 [00:00<00:00, 64.80it/s]\n"
     ]
    },
    {
     "name": "stdout",
     "output_type": "stream",
     "text": [
      "[2024-11-01 10:05:15] Evaluate_71: epoch = 0050 train time = 0 s train loss = 0.975719 train acc = 0.9000, test acc = 0.0578\n"
     ]
    },
    {
     "name": "stderr",
     "output_type": "stream",
     "text": [
      "100%|██████████| 51/51 [00:00<00:00, 64.56it/s]\n"
     ]
    },
    {
     "name": "stdout",
     "output_type": "stream",
     "text": [
      "[2024-11-01 10:05:17] Evaluate_72: epoch = 0050 train time = 0 s train loss = 1.253856 train acc = 0.6900, test acc = 0.1103\n"
     ]
    },
    {
     "name": "stderr",
     "output_type": "stream",
     "text": [
      "100%|██████████| 51/51 [00:00<00:00, 68.92it/s]\n"
     ]
    },
    {
     "name": "stdout",
     "output_type": "stream",
     "text": [
      "[2024-11-01 10:05:19] Evaluate_73: epoch = 0050 train time = 0 s train loss = 0.602832 train acc = 1.0000, test acc = 0.0909\n"
     ]
    },
    {
     "name": "stderr",
     "output_type": "stream",
     "text": [
      "100%|██████████| 51/51 [00:00<00:00, 69.39it/s]\n"
     ]
    },
    {
     "name": "stdout",
     "output_type": "stream",
     "text": [
      "[2024-11-01 10:05:21] Evaluate_74: epoch = 0050 train time = 0 s train loss = 0.710923 train acc = 0.9900, test acc = 0.1056\n"
     ]
    },
    {
     "name": "stderr",
     "output_type": "stream",
     "text": [
      "100%|██████████| 51/51 [00:00<00:00, 62.96it/s]\n"
     ]
    },
    {
     "name": "stdout",
     "output_type": "stream",
     "text": [
      "[2024-11-01 10:05:23] Evaluate_75: epoch = 0050 train time = 0 s train loss = 1.038899 train acc = 0.8800, test acc = 0.0766\n"
     ]
    },
    {
     "name": "stderr",
     "output_type": "stream",
     "text": [
      "100%|██████████| 51/51 [00:00<00:00, 62.81it/s]\n"
     ]
    },
    {
     "name": "stdout",
     "output_type": "stream",
     "text": [
      "[2024-11-01 10:05:26] Evaluate_76: epoch = 0050 train time = 0 s train loss = 1.385249 train acc = 0.5600, test acc = 0.0633\n"
     ]
    },
    {
     "name": "stderr",
     "output_type": "stream",
     "text": [
      "100%|██████████| 51/51 [00:00<00:00, 65.82it/s]\n"
     ]
    },
    {
     "name": "stdout",
     "output_type": "stream",
     "text": [
      "[2024-11-01 10:05:28] Evaluate_77: epoch = 0050 train time = 0 s train loss = 1.659254 train acc = 0.5200, test acc = 0.0540\n"
     ]
    },
    {
     "name": "stderr",
     "output_type": "stream",
     "text": [
      "100%|██████████| 51/51 [00:00<00:00, 65.81it/s]\n"
     ]
    },
    {
     "name": "stdout",
     "output_type": "stream",
     "text": [
      "[2024-11-01 10:05:30] Evaluate_78: epoch = 0050 train time = 0 s train loss = 0.508531 train acc = 0.9900, test acc = 0.0761\n"
     ]
    },
    {
     "name": "stderr",
     "output_type": "stream",
     "text": [
      "100%|██████████| 51/51 [00:00<00:00, 67.32it/s]\n"
     ]
    },
    {
     "name": "stdout",
     "output_type": "stream",
     "text": [
      "[2024-11-01 10:05:32] Evaluate_79: epoch = 0050 train time = 0 s train loss = 1.617458 train acc = 0.5400, test acc = 0.0999\n"
     ]
    },
    {
     "name": "stderr",
     "output_type": "stream",
     "text": [
      "100%|██████████| 51/51 [00:00<00:00, 67.44it/s]\n"
     ]
    },
    {
     "name": "stdout",
     "output_type": "stream",
     "text": [
      "[2024-11-01 10:05:34] Evaluate_80: epoch = 0050 train time = 0 s train loss = 0.796259 train acc = 0.9600, test acc = 0.1221\n"
     ]
    },
    {
     "name": "stderr",
     "output_type": "stream",
     "text": [
      "100%|██████████| 51/51 [00:00<00:00, 61.71it/s]\n"
     ]
    },
    {
     "name": "stdout",
     "output_type": "stream",
     "text": [
      "[2024-11-01 10:05:36] Evaluate_81: epoch = 0050 train time = 0 s train loss = 0.928642 train acc = 0.9000, test acc = 0.0829\n"
     ]
    },
    {
     "name": "stderr",
     "output_type": "stream",
     "text": [
      "100%|██████████| 51/51 [00:00<00:00, 63.04it/s]\n"
     ]
    },
    {
     "name": "stdout",
     "output_type": "stream",
     "text": [
      "[2024-11-01 10:05:38] Evaluate_82: epoch = 0050 train time = 0 s train loss = 1.049870 train acc = 0.8700, test acc = 0.0955\n"
     ]
    },
    {
     "name": "stderr",
     "output_type": "stream",
     "text": [
      "100%|██████████| 51/51 [00:00<00:00, 67.36it/s]\n"
     ]
    },
    {
     "name": "stdout",
     "output_type": "stream",
     "text": [
      "[2024-11-01 10:05:40] Evaluate_83: epoch = 0050 train time = 0 s train loss = 1.620740 train acc = 0.5600, test acc = 0.0804\n"
     ]
    },
    {
     "name": "stderr",
     "output_type": "stream",
     "text": [
      "100%|██████████| 51/51 [00:00<00:00, 68.60it/s]\n"
     ]
    },
    {
     "name": "stdout",
     "output_type": "stream",
     "text": [
      "[2024-11-01 10:05:42] Evaluate_84: epoch = 0050 train time = 0 s train loss = 1.292320 train acc = 0.6300, test acc = 0.0791\n"
     ]
    },
    {
     "name": "stderr",
     "output_type": "stream",
     "text": [
      "100%|██████████| 51/51 [00:00<00:00, 63.83it/s]\n"
     ]
    },
    {
     "name": "stdout",
     "output_type": "stream",
     "text": [
      "[2024-11-01 10:05:44] Evaluate_85: epoch = 0050 train time = 0 s train loss = 1.057240 train acc = 0.8100, test acc = 0.1144\n"
     ]
    },
    {
     "name": "stderr",
     "output_type": "stream",
     "text": [
      "100%|██████████| 51/51 [00:00<00:00, 72.55it/s]\n"
     ]
    },
    {
     "name": "stdout",
     "output_type": "stream",
     "text": [
      "[2024-11-01 10:05:46] Evaluate_86: epoch = 0050 train time = 0 s train loss = 0.840640 train acc = 0.9500, test acc = 0.0661\n"
     ]
    },
    {
     "name": "stderr",
     "output_type": "stream",
     "text": [
      "100%|██████████| 51/51 [00:00<00:00, 72.75it/s]\n"
     ]
    },
    {
     "name": "stdout",
     "output_type": "stream",
     "text": [
      "[2024-11-01 10:05:48] Evaluate_87: epoch = 0050 train time = 0 s train loss = 0.990510 train acc = 0.8700, test acc = 0.1219\n"
     ]
    },
    {
     "name": "stderr",
     "output_type": "stream",
     "text": [
      "100%|██████████| 51/51 [00:00<00:00, 72.54it/s]\n"
     ]
    },
    {
     "name": "stdout",
     "output_type": "stream",
     "text": [
      "[2024-11-01 10:05:50] Evaluate_88: epoch = 0050 train time = 0 s train loss = 1.238870 train acc = 0.6700, test acc = 0.0819\n"
     ]
    },
    {
     "name": "stderr",
     "output_type": "stream",
     "text": [
      "100%|██████████| 51/51 [00:00<00:00, 72.00it/s]\n"
     ]
    },
    {
     "name": "stdout",
     "output_type": "stream",
     "text": [
      "[2024-11-01 10:05:52] Evaluate_89: epoch = 0050 train time = 0 s train loss = 0.838377 train acc = 0.9900, test acc = 0.0565\n"
     ]
    },
    {
     "name": "stderr",
     "output_type": "stream",
     "text": [
      "100%|██████████| 51/51 [00:00<00:00, 65.72it/s]\n"
     ]
    },
    {
     "name": "stdout",
     "output_type": "stream",
     "text": [
      "[2024-11-01 10:05:54] Evaluate_90: epoch = 0050 train time = 0 s train loss = 1.577654 train acc = 0.5700, test acc = 0.1050\n"
     ]
    },
    {
     "name": "stderr",
     "output_type": "stream",
     "text": [
      "100%|██████████| 51/51 [00:00<00:00, 62.26it/s]\n"
     ]
    },
    {
     "name": "stdout",
     "output_type": "stream",
     "text": [
      "[2024-11-01 10:05:56] Evaluate_91: epoch = 0050 train time = 0 s train loss = 0.956226 train acc = 0.8800, test acc = 0.0773\n"
     ]
    },
    {
     "name": "stderr",
     "output_type": "stream",
     "text": [
      "100%|██████████| 51/51 [00:00<00:00, 68.67it/s]\n"
     ]
    },
    {
     "name": "stdout",
     "output_type": "stream",
     "text": [
      "[2024-11-01 10:05:58] Evaluate_92: epoch = 0050 train time = 0 s train loss = 0.942454 train acc = 0.8800, test acc = 0.1139\n"
     ]
    },
    {
     "name": "stderr",
     "output_type": "stream",
     "text": [
      "100%|██████████| 51/51 [00:00<00:00, 66.97it/s]\n"
     ]
    },
    {
     "name": "stdout",
     "output_type": "stream",
     "text": [
      "[2024-11-01 10:06:00] Evaluate_93: epoch = 0050 train time = 0 s train loss = 1.581562 train acc = 0.5500, test acc = 0.0780\n"
     ]
    },
    {
     "name": "stderr",
     "output_type": "stream",
     "text": [
      "100%|██████████| 51/51 [00:00<00:00, 68.06it/s]\n"
     ]
    },
    {
     "name": "stdout",
     "output_type": "stream",
     "text": [
      "[2024-11-01 10:06:02] Evaluate_94: epoch = 0050 train time = 0 s train loss = 0.916718 train acc = 0.9100, test acc = 0.0621\n"
     ]
    },
    {
     "name": "stderr",
     "output_type": "stream",
     "text": [
      "100%|██████████| 51/51 [00:00<00:00, 68.19it/s]\n"
     ]
    },
    {
     "name": "stdout",
     "output_type": "stream",
     "text": [
      "[2024-11-01 10:06:04] Evaluate_95: epoch = 0050 train time = 0 s train loss = 0.600829 train acc = 1.0000, test acc = 0.0875\n"
     ]
    },
    {
     "name": "stderr",
     "output_type": "stream",
     "text": [
      "100%|██████████| 51/51 [00:00<00:00, 69.48it/s]\n"
     ]
    },
    {
     "name": "stdout",
     "output_type": "stream",
     "text": [
      "[2024-11-01 10:06:06] Evaluate_96: epoch = 0050 train time = 0 s train loss = 1.139781 train acc = 0.7300, test acc = 0.0575\n"
     ]
    },
    {
     "name": "stderr",
     "output_type": "stream",
     "text": [
      "100%|██████████| 51/51 [00:00<00:00, 67.64it/s]\n"
     ]
    },
    {
     "name": "stdout",
     "output_type": "stream",
     "text": [
      "[2024-11-01 10:06:09] Evaluate_97: epoch = 0050 train time = 0 s train loss = 1.621258 train acc = 0.5400, test acc = 0.0686\n"
     ]
    },
    {
     "name": "stderr",
     "output_type": "stream",
     "text": [
      "100%|██████████| 51/51 [00:00<00:00, 70.25it/s]\n"
     ]
    },
    {
     "name": "stdout",
     "output_type": "stream",
     "text": [
      "[2024-11-01 10:06:11] Evaluate_98: epoch = 0050 train time = 0 s train loss = 0.547586 train acc = 0.9900, test acc = 0.0923\n"
     ]
    },
    {
     "name": "stderr",
     "output_type": "stream",
     "text": [
      "100%|██████████| 51/51 [00:00<00:00, 69.39it/s]\n"
     ]
    },
    {
     "name": "stdout",
     "output_type": "stream",
     "text": [
      "[2024-11-01 10:06:13] Evaluate_99: epoch = 0050 train time = 0 s train loss = 0.821637 train acc = 0.9300, test acc = 0.0596\n",
      "TOTAL TIME WAS:  21.01880350112915\n",
      "Evaluate 100 random ConvNet, mean = 0.0838 std = 0.0220\n",
      "-------------------------\n",
      "[2024-11-01 10:06:13] iter = 00000, loss = 51.9393\n",
      "[2024-11-01 10:06:27] iter = 00010, loss = 45.1965\n",
      "\n",
      "==================== Final Results ====================\n",
      "\n",
      "Run 1 experiments, train on ConvNet, evaluate 0 random ConvNet, mean  = nan%  std = nan%\n",
      "\n",
      "==================== Maximum Results ====================\n",
      "\n",
      "Run 1 experiments, train on ConvNet, evaluate 100 random ConvNet, mean  = 8.38%  std = 2.20%\n",
      "\n",
      "==================== Top 5 Results ====================\n",
      "\n",
      "Run 1 experiments, train on ConvNet, evaluate 100 random ConvNet, mean  = 15.34%  std = 0.00%\n"
     ]
    },
    {
     "name": "stderr",
     "output_type": "stream",
     "text": [
      "c:\\Users\\colin\\AppData\\Local\\Programs\\Python\\Python310\\lib\\site-packages\\numpy\\core\\fromnumeric.py:3504: RuntimeWarning: Mean of empty slice.\n",
      "  return _methods._mean(a, axis=axis, dtype=dtype,\n",
      "c:\\Users\\colin\\AppData\\Local\\Programs\\Python\\Python310\\lib\\site-packages\\numpy\\core\\_methods.py:129: RuntimeWarning: invalid value encountered in scalar divide\n",
      "  ret = ret.dtype.type(ret / rcount)\n",
      "c:\\Users\\colin\\AppData\\Local\\Programs\\Python\\Python310\\lib\\site-packages\\numpy\\core\\_methods.py:206: RuntimeWarning: Degrees of freedom <= 0 for slice\n",
      "  ret = _var(a, axis=axis, dtype=dtype, out=out, ddof=ddof,\n",
      "c:\\Users\\colin\\AppData\\Local\\Programs\\Python\\Python310\\lib\\site-packages\\numpy\\core\\_methods.py:163: RuntimeWarning: invalid value encountered in divide\n",
      "  arrmean = um.true_divide(arrmean, div, out=arrmean,\n",
      "c:\\Users\\colin\\AppData\\Local\\Programs\\Python\\Python310\\lib\\site-packages\\numpy\\core\\_methods.py:198: RuntimeWarning: invalid value encountered in scalar divide\n",
      "  ret = ret.dtype.type(ret / rcount)\n"
     ]
    }
   ],
   "source": [
    "data_DAM_args = DataDAMArgs()\n",
    "data_DAM_args.init = 'noise'\n",
    "data_DAM_args.save_path = 'MNIST_syn/noise/'\n",
    "main_DataDAM.main(get_dataset, get_network, data_DAM_args)"
   ]
  },
  {
   "cell_type": "code",
   "execution_count": 15,
   "metadata": {},
   "outputs": [
    {
     "name": "stderr",
     "output_type": "stream",
     "text": [
      "C:\\Users\\colin\\AppData\\Local\\Temp\\ipykernel_22372\\456962721.py:11: FutureWarning: You are using `torch.load` with `weights_only=False` (the current default value), which uses the default pickle module implicitly. It is possible to construct malicious pickle data which will execute arbitrary code during unpickling (See https://github.com/pytorch/pytorch/blob/main/SECURITY.md#untrusted-models for more details). In a future release, the default value for `weights_only` will be flipped to `True`. This limits the functions that could be executed during unpickling. Arbitrary objects will no longer be allowed to be loaded via this mode unless they are explicitly allowlisted by the user via `torch.serialization.add_safe_globals`. We recommend you start setting `weights_only=True` for any use case where you don't have full control of the loaded file. Please open an issue on GitHub for any issues related to this experimental feature.\n",
      "  syn_dict = torch.load(syn_path)\n"
     ]
    },
    {
     "data": {
      "image/png": "[encoded data removed]",
      "text/plain": [
       "<Figure size 640x480 with 1 Axes>"
      ]
     },
     "metadata": {},
     "output_type": "display_data"
    }
   ],
   "source": [
    "import os\n",
    "from torchvision.utils import make_grid\n",
    "\n",
    "from utils import save\n",
    "\n",
    "data_DAM_args = DataDAMArgs()\n",
    "data_DAM_args.init = 'noise'\n",
    "data_DAM_args.save_path = 'MNIST_syn/noise/'\n",
    "\n",
    "syn_path = os.path.join(data_DAM_args.save_path, 'res_%s_%s_%s_%dipc_.pt'%(data_DAM_args.method, data_DAM_args.dataset, data_DAM_args.model, data_DAM_args.ipc))\n",
    "syn_dict = torch.load(syn_path)\n",
    "\n",
    "image_syn = syn_dict['data'][-1][0]\n",
    "label_syn = syn_dict['data'][-1][1]\n",
    "\n",
    "grid = make_grid(image_syn.detach().cpu())\n",
    "save(grid, './mnist_syn_noise.png')"
   ]
  },
  {
   "cell_type": "markdown",
   "metadata": {},
   "source": [
    "# 2e)"
   ]
  },
  {
   "cell_type": "code",
   "execution_count": 12,
   "metadata": {},
   "outputs": [
    {
     "name": "stderr",
     "output_type": "stream",
     "text": [
      "C:\\Users\\colin\\AppData\\Local\\Temp\\ipykernel_22372\\1056142526.py:6: FutureWarning: You are using `torch.load` with `weights_only=False` (the current default value), which uses the default pickle module implicitly. It is possible to construct malicious pickle data which will execute arbitrary code during unpickling (See https://github.com/pytorch/pytorch/blob/main/SECURITY.md#untrusted-models for more details). In a future release, the default value for `weights_only` will be flipped to `True`. This limits the functions that could be executed during unpickling. Arbitrary objects will no longer be allowed to be loaded via this mode unless they are explicitly allowlisted by the user via `torch.serialization.add_safe_globals`. We recommend you start setting `weights_only=True` for any use case where you don't have full control of the loaded file. Please open an issue on GitHub for any issues related to this experimental feature.\n",
      "  syn_dict = torch.load(syn_path)\n"
     ]
    },
    {
     "name": "stdout",
     "output_type": "stream",
     "text": [
      "[2024-11-01 10:09:24] Evaluate_00: epoch = 0020 train time = 0 s train loss = 1.169711 train acc = 0.7000, test acc = 0.8261\n"
     ]
    }
   ],
   "source": [
    "import os\n",
    "\n",
    "data_DAM_args = DataDAMArgs()\n",
    "\n",
    "syn_path = os.path.join(data_DAM_args.save_path, 'res_%s_%s_%s_%dipc_.pt'%(data_DAM_args.method, data_DAM_args.dataset, data_DAM_args.model, data_DAM_args.ipc))\n",
    "syn_dict = torch.load(syn_path)\n",
    "\n",
    "image_syn = syn_dict['data'][-1][0]\n",
    "label_syn = syn_dict['data'][-1][1]\n",
    "\n",
    "evaluate_args = EvaluateArgs()\n",
    "evaluate_args.dc_aug_param = get_daparam('MNIST', 'ConvNet', 'ConvNet', 10)\n",
    "\n",
    "channel, im_size, num_classes, class_names, mean, std, dst_train, dst_test, testloader = get_dataset('MNIST', 'MNIST/')\n",
    "ConvNet_3 = get_network('ConvNet', channel, num_classes, im_size)\n",
    "\n",
    "_, acc_train, acc_test = evaluate(0, ConvNet_3, image_syn, label_syn, testloader, args = evaluate_args)"
   ]
  },
  {
   "cell_type": "markdown",
   "metadata": {},
   "source": [
    "# 3"
   ]
  },
  {
   "cell_type": "code",
   "execution_count": null,
   "metadata": {},
   "outputs": [
    {
     "name": "stderr",
     "output_type": "stream",
     "text": [
      "C:\\Users\\colin\\AppData\\Local\\Temp\\ipykernel_7624\\3966259556.py:6: FutureWarning: You are using `torch.load` with `weights_only=False` (the current default value), which uses the default pickle module implicitly. It is possible to construct malicious pickle data which will execute arbitrary code during unpickling (See https://github.com/pytorch/pytorch/blob/main/SECURITY.md#untrusted-models for more details). In a future release, the default value for `weights_only` will be flipped to `True`. This limits the functions that could be executed during unpickling. Arbitrary objects will no longer be allowed to be loaded via this mode unless they are explicitly allowlisted by the user via `torch.serialization.add_safe_globals`. We recommend you start setting `weights_only=True` for any use case where you don't have full control of the loaded file. Please open an issue on GitHub for any issues related to this experimental feature.\n",
      "  syn_dict = torch.load(syn_path)\n"
     ]
    },
    {
     "name": "stdout",
     "output_type": "stream",
     "text": [
      "[2024-11-02 16:01:51] Evaluate_00: epoch = 0020 train time = 1 s train loss = 1.869883 train acc = 0.6300, test acc = 0.6436\n"
     ]
    }
   ],
   "source": [
    "import os\n",
    "\n",
    "data_DAM_args = DataDAMArgs()\n",
    "\n",
    "syn_path = os.path.join(data_DAM_args.save_path, 'res_%s_%s_%s_%dipc_.pt'%(data_DAM_args.method, data_DAM_args.dataset, data_DAM_args.model, data_DAM_args.ipc))\n",
    "syn_dict = torch.load(syn_path)\n",
    "\n",
    "image_syn = syn_dict['data'][-1][0]\n",
    "label_syn = syn_dict['data'][-1][1]\n",
    "\n",
    "evaluate_args = EvaluateArgs()\n",
    "evaluate_args.dc_aug_param = get_daparam('MNIST', 'ResNet18', 'ResNet18', 10)\n",
    "\n",
    "channel, im_size, num_classes, class_names, mean, std, dst_train, dst_test, testloader = get_dataset('MNIST', 'MNIST/')\n",
    "ResNet18 = get_network('ResNet18', channel, num_classes, im_size)\n",
    "_, acc_train, acc_test = evaluate(0, ResNet18, image_syn, label_syn, testloader, evaluate_args)"
   ]
  },
  {
   "cell_type": "markdown",
   "metadata": {},
   "source": [
    "# 4"
   ]
  },
  {
   "cell_type": "markdown",
   "metadata": {},
   "source": [
    "NAS using Real Dataset"
   ]
  },
  {
   "cell_type": "code",
   "execution_count": 2,
   "metadata": {},
   "outputs": [],
   "source": [
    "evaluate_args = EvaluateArgs()\n",
    "evaluate_args.dc_aug_param = get_daparam('MNIST', 'ConvNet', 'ConvNet', 10)\n",
    "\n",
    "channel, im_size, num_classes, class_names, mean, std, dst_train, dst_test, testloader = get_dataset('MNIST', 'MNIST/')\n",
    "\n",
    "images_all = [torch.unsqueeze(dst_train[i][0], dim=0) for i in range(len(dst_train))]\n",
    "labels_all = [dst_train[i][1] for i in range(len(dst_train))]\n",
    "images_all = torch.cat(images_all, dim=0)\n",
    "labels_all = torch.tensor(labels_all, dtype=torch.long)"
   ]
  },
  {
   "cell_type": "code",
   "execution_count": 3,
   "metadata": {},
   "outputs": [
    {
     "name": "stdout",
     "output_type": "stream",
     "text": [
      "[2024-11-06 14:05:02] Evaluate_00: epoch = 0020 train time = 256 s train loss = 0.143356 train acc = 0.9587, test acc = 0.9867\n"
     ]
    }
   ],
   "source": [
    "ConvNetD1 = get_network('ConvNetD1', channel, num_classes, im_size)\n",
    "_, acc_train, acc_test = evaluate(0, ConvNetD1, images_all, labels_all, testloader, args = evaluate_args)"
   ]
  },
  {
   "cell_type": "code",
   "execution_count": 4,
   "metadata": {},
   "outputs": [
    {
     "name": "stdout",
     "output_type": "stream",
     "text": [
      "[2024-11-06 14:10:16] Evaluate_00: epoch = 0020 train time = 307 s train loss = 0.047856 train acc = 0.9861, test acc = 0.9942\n"
     ]
    }
   ],
   "source": [
    "ConvNetD2 = get_network('ConvNetD2', channel, num_classes, im_size)\n",
    "_, acc_train, acc_test = evaluate(0, ConvNetD2, images_all, labels_all, testloader, args = evaluate_args)"
   ]
  },
  {
   "cell_type": "code",
   "execution_count": 5,
   "metadata": {},
   "outputs": [
    {
     "name": "stdout",
     "output_type": "stream",
     "text": [
      "[2024-11-06 14:15:50] Evaluate_00: epoch = 0020 train time = 329 s train loss = 0.017615 train acc = 0.9951, test acc = 0.9960\n"
     ]
    }
   ],
   "source": [
    "ConvNetD4 = get_network('ConvNetD4', channel, num_classes, im_size)\n",
    "_, acc_train, acc_test = evaluate(0, ConvNetD4, images_all, labels_all, testloader, args = evaluate_args)"
   ]
  },
  {
   "cell_type": "code",
   "execution_count": 6,
   "metadata": {},
   "outputs": [
    {
     "name": "stdout",
     "output_type": "stream",
     "text": [
      "[2024-11-06 14:19:35] Evaluate_00: epoch = 0020 train time = 221 s train loss = 0.042511 train acc = 0.9879, test acc = 0.9940\n"
     ]
    }
   ],
   "source": [
    "ConvNetW32 = get_network('ConvNetW32', channel, num_classes, im_size)\n",
    "_, acc_train, acc_test = evaluate(0, ConvNetW32, images_all, labels_all, testloader, args = evaluate_args)"
   ]
  },
  {
   "cell_type": "code",
   "execution_count": 7,
   "metadata": {},
   "outputs": [
    {
     "name": "stdout",
     "output_type": "stream",
     "text": [
      "[2024-11-06 14:23:53] Evaluate_00: epoch = 0020 train time = 242 s train loss = 0.034080 train acc = 0.9906, test acc = 0.9948\n"
     ]
    }
   ],
   "source": [
    "ConvNetW64 = get_network('ConvNetW64', channel, num_classes, im_size)\n",
    "_, acc_train, acc_test = evaluate(0, ConvNetW64, images_all, labels_all, testloader, args = evaluate_args)"
   ]
  },
  {
   "cell_type": "code",
   "execution_count": 8,
   "metadata": {},
   "outputs": [
    {
     "name": "stdout",
     "output_type": "stream",
     "text": [
      "[2024-11-06 14:32:59] Evaluate_00: epoch = 0020 train time = 538 s train loss = 0.025698 train acc = 0.9930, test acc = 0.9951\n"
     ]
    }
   ],
   "source": [
    "ConvNetW256 = get_network('ConvNetW256', channel, num_classes, im_size)\n",
    "_, acc_train, acc_test = evaluate(0, ConvNetW256, images_all, labels_all, testloader, args = evaluate_args)"
   ]
  },
  {
   "cell_type": "markdown",
   "metadata": {},
   "source": [
    "NAS using Synthetic Dataset"
   ]
  },
  {
   "cell_type": "code",
   "execution_count": 9,
   "metadata": {},
   "outputs": [
    {
     "name": "stderr",
     "output_type": "stream",
     "text": [
      "C:\\Users\\colin\\AppData\\Local\\Temp\\ipykernel_21384\\3454331589.py:6: FutureWarning: You are using `torch.load` with `weights_only=False` (the current default value), which uses the default pickle module implicitly. It is possible to construct malicious pickle data which will execute arbitrary code during unpickling (See https://github.com/pytorch/pytorch/blob/main/SECURITY.md#untrusted-models for more details). In a future release, the default value for `weights_only` will be flipped to `True`. This limits the functions that could be executed during unpickling. Arbitrary objects will no longer be allowed to be loaded via this mode unless they are explicitly allowlisted by the user via `torch.serialization.add_safe_globals`. We recommend you start setting `weights_only=True` for any use case where you don't have full control of the loaded file. Please open an issue on GitHub for any issues related to this experimental feature.\n",
      "  syn_dict = torch.load(syn_path)\n"
     ]
    }
   ],
   "source": [
    "import os\n",
    "\n",
    "data_DAM_args = DataDAMArgs()\n",
    "\n",
    "syn_path = os.path.join(data_DAM_args.save_path, 'res_%s_%s_%s_%dipc_.pt'%(data_DAM_args.method, data_DAM_args.dataset, data_DAM_args.model, data_DAM_args.ipc))\n",
    "syn_dict = torch.load(syn_path)\n",
    "\n",
    "image_syn = syn_dict['data'][-1][0]\n",
    "label_syn = syn_dict['data'][-1][1]\n",
    "\n",
    "evaluate_args = EvaluateArgs()\n",
    "evaluate_args.dc_aug_param = get_daparam('MNIST', 'ConvNet', 'ConvNet', 10)"
   ]
  },
  {
   "cell_type": "code",
   "execution_count": 11,
   "metadata": {},
   "outputs": [
    {
     "name": "stdout",
     "output_type": "stream",
     "text": [
      "[2024-11-06 14:33:37] Evaluate_00: epoch = 0020 train time = 0 s train loss = 2.249087 train acc = 0.6000, test acc = 0.6943\n"
     ]
    }
   ],
   "source": [
    "ConvNetD1 = get_network('ConvNetD1', channel, num_classes, im_size)\n",
    "_, acc_train, acc_test = evaluate(0, ConvNetD1, image_syn, label_syn, testloader, args = evaluate_args)"
   ]
  },
  {
   "cell_type": "code",
   "execution_count": 12,
   "metadata": {},
   "outputs": [
    {
     "name": "stdout",
     "output_type": "stream",
     "text": [
      "[2024-11-06 14:33:40] Evaluate_00: epoch = 0020 train time = 0 s train loss = 0.886056 train acc = 0.7300, test acc = 0.8436\n"
     ]
    }
   ],
   "source": [
    "ConvNetD2 = get_network('ConvNetD2', channel, num_classes, im_size)\n",
    "_, acc_train, acc_test = evaluate(0, ConvNetD2, image_syn, label_syn, testloader, args = evaluate_args)"
   ]
  },
  {
   "cell_type": "code",
   "execution_count": 13,
   "metadata": {},
   "outputs": [
    {
     "name": "stdout",
     "output_type": "stream",
     "text": [
      "[2024-11-06 14:33:44] Evaluate_00: epoch = 0020 train time = 0 s train loss = 1.756842 train acc = 0.7400, test acc = 0.7515\n"
     ]
    }
   ],
   "source": [
    "ConvNetD4 = get_network('ConvNetD4', channel, num_classes, im_size)\n",
    "_, acc_train, acc_test = evaluate(0, ConvNetD4, image_syn, label_syn, testloader, args = evaluate_args)"
   ]
  },
  {
   "cell_type": "code",
   "execution_count": 14,
   "metadata": {},
   "outputs": [
    {
     "name": "stdout",
     "output_type": "stream",
     "text": [
      "[2024-11-06 14:33:46] Evaluate_00: epoch = 0020 train time = 0 s train loss = 1.904715 train acc = 0.5600, test acc = 0.6469\n"
     ]
    }
   ],
   "source": [
    "ConvNetW32 = get_network('ConvNetW32', channel, num_classes, im_size)\n",
    "_, acc_train, acc_test = evaluate(0, ConvNetW32, image_syn, label_syn, testloader, args = evaluate_args)"
   ]
  },
  {
   "cell_type": "code",
   "execution_count": 15,
   "metadata": {},
   "outputs": [
    {
     "name": "stdout",
     "output_type": "stream",
     "text": [
      "[2024-11-06 14:33:49] Evaluate_00: epoch = 0020 train time = 0 s train loss = 1.609797 train acc = 0.6900, test acc = 0.7355\n"
     ]
    }
   ],
   "source": [
    "ConvNetW64 = get_network('ConvNetW64', channel, num_classes, im_size)\n",
    "_, acc_train, acc_test = evaluate(0, ConvNetW64, image_syn, label_syn, testloader, args = evaluate_args)"
   ]
  },
  {
   "cell_type": "code",
   "execution_count": 16,
   "metadata": {},
   "outputs": [
    {
     "name": "stdout",
     "output_type": "stream",
     "text": [
      "[2024-11-06 14:33:53] Evaluate_00: epoch = 0020 train time = 0 s train loss = 0.953249 train acc = 0.7700, test acc = 0.8490\n"
     ]
    }
   ],
   "source": [
    "ConvNetW256 = get_network('ConvNetW256', channel, num_classes, im_size)\n",
    "_, acc_train, acc_test = evaluate(0, ConvNetW256, image_syn, label_syn, testloader, args = evaluate_args)"
   ]
  }
 ],
 "metadata": {
  "kernelspec": {
   "display_name": "Python 3",
   "language": "python",
   "name": "python3"
  },
  "language_info": {
   "codemirror_mode": {
    "name": "ipython",
    "version": 3
   },
   "file_extension": ".py",
   "mimetype": "text/x-python",
   "name": "python",
   "nbconvert_exporter": "python",
   "pygments_lexer": "ipython3",
   "version": "3.10.5"
  }
 },
 "nbformat": 4,
 "nbformat_minor": 2
}
