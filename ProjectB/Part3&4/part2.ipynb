{
 "cells": [
  {
   "cell_type": "markdown",
   "metadata": {},
   "source": [
    "# Profiling Test"
   ]
  },
  {
   "cell_type": "code",
   "execution_count": 52,
   "metadata": {},
   "outputs": [
    {
     "name": "stdout",
     "output_type": "stream",
     "text": [
      "The autoreload extension is already loaded. To reload it, use:\n",
      "  %reload_ext autoreload\n"
     ]
    },
    {
     "name": "stderr",
     "output_type": "stream",
     "text": [
      "c:\\Users\\colin\\AppData\\Local\\Programs\\Python\\Python310\\lib\\site-packages\\accelerate\\utils\\modeling.py:1390: UserWarning: Current model requires 469765672 bytes of buffer for offloaded layers, which seems does not fit any GPU's remaining memory. If you are experiencing a OOM later, please consider using offload_buffers=True.\n",
      "  warnings.warn(\n",
      "Loading checkpoint shards: 100%|██████████| 5/5 [00:00<00:00,  5.25it/s]\n",
      "Some parameters are on the meta device because they were offloaded to the cpu and disk.\n",
      "c:\\Users\\colin\\AppData\\Local\\Programs\\Python\\Python310\\lib\\site-packages\\transformers\\generation\\utils.py:1902: UserWarning: You are calling .generate() with the `input_ids` being on a device type different than your model's device. `input_ids` is on cuda, whereas the model is on cpu. You may experience unexpected behaviors or slower generation. Please make sure that you have put `input_ids` to the correct device by calling for example input_ids = input_ids.to('cpu') before running `.generate()`.\n",
      "  warnings.warn(\n"
     ]
    },
    {
     "name": "stdout",
     "output_type": "stream",
     "text": [
      "2\n",
      "torch.Size([4988, 1176])\n",
      "tensor([[ 1, 58, 86]], dtype=torch.int32)\n",
      "PatchEmbed 3, 2, 14\n",
      "torch.Size([4988, 40])\n",
      "torch.Size([4988, 1280])\n",
      "16\n"
     ]
    },
    {
     "ename": "",
     "evalue": "",
     "output_type": "error",
     "traceback": [
      "\u001b[1;31mThe Kernel crashed while executing code in the current cell or a previous cell. \n",
      "\u001b[1;31mPlease review the code in the cell(s) to identify a possible cause of the failure. \n",
      "\u001b[1;31mClick <a href='https://aka.ms/vscodeJupyterKernelCrash'>here</a> for more info. \n",
      "\u001b[1;31mView Jupyter <a href='command:jupyter.viewOutput'>log</a> for further details."
     ]
    }
   ],
   "source": [
    "%load_ext autoreload\n",
    "%autoreload 2\n",
    "\n",
    "from transformers import Qwen2VLForConditionalGeneration, AutoProcessor\n",
    "from qwen_vl_utils import process_vision_info\n",
    "import torch\n",
    "\n",
    "# default processer\n",
    "# processor = AutoProcessor.from_pretrained(\"Qwen/Qwen2-VL-7B-Instruct\")\n",
    "\n",
    "# The default range for the number of visual tokens per image in the model is 4-16384. You can set min_pixels and max_pixels according to your needs, such as a token count range of 256-1280, to balance speed and memory usage.\n",
    "min_pixels = 256*28*28\n",
    "max_pixels = 1280*28*28\n",
    "processor = AutoProcessor.from_pretrained(\"Qwen/Qwen2-VL-7B-Instruct\", min_pixels=min_pixels, max_pixels=max_pixels)\n",
    "\n",
    "messages = [\n",
    "    {\n",
    "        \"role\": \"user\",\n",
    "        \"content\": [\n",
    "            {\n",
    "                \"type\": \"image\",\n",
    "                \"image\": \"https://qianwen-res.oss-cn-beijing.aliyuncs.com/Qwen-VL/assets/demo.jpeg\",\n",
    "            },\n",
    "            {\"type\": \"text\", \"text\": \"Describe this image.\"},\n",
    "        ],\n",
    "    }\n",
    "]\n",
    "\n",
    "# Preparation for inference\n",
    "text = processor.apply_chat_template(\n",
    "    messages, tokenize=False, add_generation_prompt=True\n",
    ")\n",
    "image_inputs, video_inputs = process_vision_info(messages)\n",
    "inputs = processor(\n",
    "    text=[text],\n",
    "    images=image_inputs,\n",
    "    videos=video_inputs,\n",
    "    padding=True,\n",
    "    return_tensors=\"pt\",\n",
    ")\n",
    "inputs = inputs.to(\"cuda\")\n",
    "\n",
    "# default: Load the model on the available device(s)\n",
    "model = Qwen2VLForConditionalGeneration.from_pretrained(\n",
    "    \"Qwen/Qwen2-VL-7B-Instruct\", torch_dtype=\"auto\", device_map=\"auto\"\n",
    ")\n",
    "\n",
    "# Inference: Generation of the output\n",
    "generated_ids = model.generate(**inputs, max_new_tokens=128)\n",
    "model.print_time()\n",
    "generated_ids_trimmed = [\n",
    "    out_ids[len(in_ids) :] for in_ids, out_ids in zip(inputs.input_ids, generated_ids)\n",
    "]\n",
    "output_text = processor.batch_decode(\n",
    "    generated_ids_trimmed, skip_special_tokens=True, clean_up_tokenization_spaces=False\n",
    ")\n",
    "print(output_text)"
   ]
  },
  {
   "cell_type": "markdown",
   "metadata": {},
   "source": [
    "# Baseline Evaluation"
   ]
  },
  {
   "cell_type": "code",
   "execution_count": 2,
   "metadata": {},
   "outputs": [
    {
     "name": "stderr",
     "output_type": "stream",
     "text": [
      "c:\\Users\\colin\\AppData\\Local\\Programs\\Python\\Python310\\lib\\site-packages\\tqdm\\auto.py:21: TqdmWarning: IProgress not found. Please update jupyter and ipywidgets. See https://ipywidgets.readthedocs.io/en/stable/user_install.html\n",
      "  from .autonotebook import tqdm as notebook_tqdm\n"
     ]
    },
    {
     "name": "stdout",
     "output_type": "stream",
     "text": [
      "WARNING:tensorflow:From c:\\Users\\colin\\AppData\\Local\\Programs\\Python\\Python310\\lib\\site-packages\\keras\\src\\losses.py:2976: The name tf.losses.sparse_softmax_cross_entropy is deprecated. Please use tf.compat.v1.losses.sparse_softmax_cross_entropy instead.\n",
      "\n"
     ]
    }
   ],
   "source": [
    "%load_ext autoreload\n",
    "%autoreload 2\n",
    "\n",
    "import torch\n",
    "from transformers import Qwen2VLConfig, Qwen2VLForConditionalGeneration, TrainingArguments, Trainer, AutoProcessor\n",
    "import evaluate\n",
    "import numpy as np\n",
    "from datasets import load_dataset\n",
    "import time\n",
    "\n",
    "import baseline\n",
    "import efficient\n",
    "from utils import get_dataset, train"
   ]
  },
  {
   "cell_type": "markdown",
   "metadata": {},
   "source": [
    "Make dataset"
   ]
  },
  {
   "cell_type": "code",
   "execution_count": 90,
   "metadata": {},
   "outputs": [
    {
     "name": "stderr",
     "output_type": "stream",
     "text": [
      "Map: 100%|██████████| 100/100 [00:00<00:00, 709.09 examples/s]\n"
     ]
    }
   ],
   "source": [
    "min_pixels = 16*28*28\n",
    "max_pixels = 80*28*28\n",
    "processor = AutoProcessor.from_pretrained(\"Qwen/Qwen2-VL-7B-Instruct\", min_pixels=min_pixels, max_pixels=max_pixels)\n",
    "\n",
    "messages = [{\n",
    "    \"role\": \"user\",\n",
    "    \"content\": [\n",
    "        {\"type\": \"image\"},\n",
    "    ],\n",
    "}]\n",
    "\n",
    "text = processor.apply_chat_template(\n",
    "    messages, tokenize=False, add_generation_prompt=True\n",
    ")\n",
    "\n",
    "datasets = load_dataset(\"mnist\", cache_dir='.cache')\n",
    "train_dataset = datasets[\"train\"].select(range(1000))\n",
    "test_dataset = datasets[\"test\"].select(range(100))\n",
    "\n",
    "def process_function(datum):\n",
    "    return processor(text=text, images=datum[\"image\"], videos=None, padding=True, return_tensors=\"pt\")\n",
    "\n",
    "train_dataset = train_dataset.map(process_function, batched=False).shuffle(seed=1512)\n",
    "test_dataset = test_dataset.map(process_function, batched=False).shuffle(seed=1512)"
   ]
  },
  {
   "cell_type": "markdown",
   "metadata": {},
   "source": [
    "Train and evaluate baseline model"
   ]
  },
  {
   "cell_type": "code",
   "execution_count": 57,
   "metadata": {},
   "outputs": [],
   "source": [
    "baseline_config = Qwen2VLConfig(\n",
    "    hidden_size=16,\n",
    "    intermediate_size=128,\n",
    "    num_hidden_layers=3,\n",
    "    num_attention_heads=8,\n",
    "    rope_scaling={\"mrope_section\": [1, 1, 2], \"type\": \"mrope\"},\n",
    "    vision_config={\"hidden_size\": 64,\n",
    "                   \"in_channels\": 3,\n",
    "                   \"embed_dim\": 64,\n",
    "                   \"num_heads\": 1,\n",
    "                   \"spatial_merge_size\": 2,\n",
    "                   \"patch_size\": 14,\n",
    "                   \"temporal_patch_size\": 2,\n",
    "                   \"depth\": 3,\n",
    "                   \"vocab_size\": 10,\n",
    "                   \"spatial_merge_size\": 2},\n",
    "    _name_or_path=\"baseline\",\n",
    "    image_token_id=151655,\n",
    ")\n",
    "\n",
    "#print(baseline_config)\n",
    "\n",
    "baseline_model = baseline.Qwen2VLBaseline(baseline_config.vision_config)"
   ]
  },
  {
   "cell_type": "code",
   "execution_count": 8,
   "metadata": {},
   "outputs": [
    {
     "name": "stdout",
     "output_type": "stream",
     "text": [
      "Dataset({\n",
      "    features: ['image', 'label', 'input_ids', 'attention_mask', 'pixel_values', 'image_grid_thw'],\n",
      "    num_rows: 1\n",
      "})\n"
     ]
    }
   ],
   "source": [
    "print(train_dataset)"
   ]
  },
  {
   "cell_type": "code",
   "execution_count": null,
   "metadata": {},
   "outputs": [],
   "source": [
    "class Args:\n",
    "    device = \"cpu\"\n",
    "    lr_net = 0.005\n",
    "    epoch_eval_train = 10\n",
    "\n",
    "args = Args()"
   ]
  },
  {
   "cell_type": "code",
   "execution_count": 59,
   "metadata": {},
   "outputs": [
    {
     "name": "stdout",
     "output_type": "stream",
     "text": [
      "[2024-12-03 17:02:47] Evaluate_00: epoch = 0003 train time = 24 s train loss = 1.056103 train acc = 0.6800, test acc = 0.5000\n"
     ]
    }
   ],
   "source": [
    "train(0, baseline_model, train_dataset, test_dataset, args)"
   ]
  },
  {
   "cell_type": "markdown",
   "metadata": {},
   "source": [
    "Train and evaluate efficient model"
   ]
  },
  {
   "cell_type": "code",
   "execution_count": 88,
   "metadata": {},
   "outputs": [],
   "source": [
    "efficient_config = Qwen2VLConfig(\n",
    "    hidden_size=16,\n",
    "    intermediate_size=128,\n",
    "    num_hidden_layers=3,\n",
    "    num_attention_heads=8,\n",
    "    rope_scaling={\"mrope_section\": [1, 1, 2], \"type\": \"mrope\"},\n",
    "    vision_config={\"hidden_size\": 64,\n",
    "                   \"in_channels\": 3,\n",
    "                   \"embed_dim\": 64,\n",
    "                   \"num_heads\": 1,\n",
    "                   \"spatial_merge_size\": 2,\n",
    "                   \"patch_size\": 14,\n",
    "                   \"temporal_patch_size\": 2,\n",
    "                   \"depth\": 3,\n",
    "                   \"vocab_size\": 10,\n",
    "                   \"spatial_merge_size\": 2},\n",
    "    _name_or_path=\"efficient\",\n",
    "    image_token_id=151655,\n",
    ")\n",
    "\n",
    "efficient_model = efficient.Qwen2VLEfficient(efficient_config.vision_config)"
   ]
  },
  {
   "cell_type": "code",
   "execution_count": 91,
   "metadata": {},
   "outputs": [],
   "source": [
    "class Args:\n",
    "    device = \"cuda\"\n",
    "    lr_net = 0.005\n",
    "    epoch_eval_train = 10\n",
    "\n",
    "args = Args()"
   ]
  },
  {
   "cell_type": "code",
   "execution_count": 92,
   "metadata": {},
   "outputs": [
    {
     "name": "stdout",
     "output_type": "stream",
     "text": [
      "[2024-12-03 17:50:08] Evaluate_00: epoch = 0010 train time = 316 s train loss = 0.037296 train acc = 0.9920, test acc = 0.8900\n"
     ]
    }
   ],
   "source": [
    "train(0, efficient_model, train_dataset, test_dataset, args)"
   ]
  },
  {
   "cell_type": "code",
   "execution_count": 37,
   "metadata": {},
   "outputs": [
    {
     "data": {
      "text/plain": [
       "array([56.920467, 47.16939 , 56.242165, 56.261654, 53.352417, 49.153526,\n",
       "       49.006687, 47.99332 , 47.67888 , 51.1504  , 46.553295, 59.930485,\n",
       "       50.166054, 53.989044, 45.1649  , 54.88476 , 45.1556  , 49.01019 ,\n",
       "       56.02619 , 53.802086, 48.837364, 50.971104, 50.13207 , 60.619606,\n",
       "       53.63239 , 49.137062, 57.631992, 47.799107, 50.219166, 56.934956,\n",
       "       51.861347, 53.022583, 48.632187, 51.89994 , 53.112076, 51.023262,\n",
       "       46.39769 , 52.821156, 51.804142, 51.369476, 58.84605 , 52.86758 ,\n",
       "       62.422626, 54.64633 , 55.126945, 57.355015, 54.241074, 54.07905 ,\n",
       "       41.357086, 53.124294, 46.557323, 53.85053 , 41.190422, 45.550182,\n",
       "       51.022633, 53.425903, 58.612766, 39.902985, 62.082855, 54.20802 ,\n",
       "       55.088013, 55.21963 , 46.374645, 51.68664 ], dtype=float32)"
      ]
     },
     "execution_count": 37,
     "metadata": {},
     "output_type": "execute_result"
    }
   ],
   "source": [
    "x = torch.randn([64,64]).numpy()\n",
    "np.sum(np.abs(x), 0)"
   ]
  },
  {
   "cell_type": "code",
   "execution_count": 36,
   "metadata": {},
   "outputs": [
    {
     "data": {
      "text/plain": [
       "array([[-0.38639838, -0.98506033,  1.0919193 , ...,  0.45764935,\n",
       "         0.34476206, -0.77541775],\n",
       "       [ 1.2277838 ,  0.76195467,  1.4347185 , ..., -0.48140383,\n",
       "        -0.890773  ,  0.98833424],\n",
       "       [-0.13808826,  1.6146613 , -0.7909208 , ...,  0.6706576 ,\n",
       "        -0.6683063 ,  0.45490786],\n",
       "       ...,\n",
       "       [ 1.2200717 ,  0.9622775 , -1.6472394 , ..., -0.49833935,\n",
       "        -0.43424693,  0.24749589],\n",
       "       [-0.79002994,  0.05223804, -0.7194966 , ...,  0.881318  ,\n",
       "         1.3307374 ,  0.07237424],\n",
       "       [ 0.96025515, -1.0600721 , -1.0369935 , ...,  1.2501028 ,\n",
       "         1.300068  ,  0.79003644]], dtype=float32)"
      ]
     },
     "execution_count": 36,
     "metadata": {},
     "output_type": "execute_result"
    }
   ],
   "source": [
    "most_impactful = np.argpartition(np.sum(np.abs(x), 0), 32)[32:]\n",
    "x[most_impactful]"
   ]
  }
 ],
 "metadata": {
  "kernelspec": {
   "display_name": "Python 3",
   "language": "python",
   "name": "python3"
  },
  "language_info": {
   "codemirror_mode": {
    "name": "ipython",
    "version": 3
   },
   "file_extension": ".py",
   "mimetype": "text/x-python",
   "name": "python",
   "nbconvert_exporter": "python",
   "pygments_lexer": "ipython3",
   "version": "3.10.5"
  }
 },
 "nbformat": 4,
 "nbformat_minor": 2
}
