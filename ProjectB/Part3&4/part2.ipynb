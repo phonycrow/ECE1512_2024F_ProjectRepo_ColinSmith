{
 "cells": [
  {
   "cell_type": "markdown",
   "metadata": {},
   "source": [
    "# Profiling Test"
   ]
  },
  {
   "cell_type": "code",
   "execution_count": null,
   "metadata": {},
   "outputs": [],
   "source": [
    "%load_ext autoreload\n",
    "%autoreload 2\n",
    "\n",
    "from transformers import Qwen2VLForConditionalGeneration, AutoProcessor\n",
    "from qwen_vl_utils import process_vision_info\n",
    "import torch\n",
    "\n",
    "# default processer\n",
    "# processor = AutoProcessor.from_pretrained(\"Qwen/Qwen2-VL-7B-Instruct\")\n",
    "\n",
    "# The default range for the number of visual tokens per image in the model is 4-16384. You can set min_pixels and max_pixels according to your needs, such as a token count range of 256-1280, to balance speed and memory usage.\n",
    "min_pixels = 256*28*28\n",
    "max_pixels = 1280*28*28\n",
    "processor = AutoProcessor.from_pretrained(\"Qwen/Qwen2-VL-7B-Instruct\", min_pixels=min_pixels, max_pixels=max_pixels)\n",
    "\n",
    "messages = [\n",
    "    {\n",
    "        \"role\": \"user\",\n",
    "        \"content\": [\n",
    "            {\n",
    "                \"type\": \"image\",\n",
    "                \"image\": \"https://qianwen-res.oss-cn-beijing.aliyuncs.com/Qwen-VL/assets/demo.jpeg\",\n",
    "            },\n",
    "            {\"type\": \"text\", \"text\": \"Describe this image.\"},\n",
    "        ],\n",
    "    }\n",
    "]\n",
    "\n",
    "# Preparation for inference\n",
    "text = processor.apply_chat_template(\n",
    "    messages, tokenize=False, add_generation_prompt=True\n",
    ")\n",
    "image_inputs, video_inputs = process_vision_info(messages)\n",
    "inputs = processor(\n",
    "    text=[text],\n",
    "    images=image_inputs,\n",
    "    videos=video_inputs,\n",
    "    padding=True,\n",
    "    return_tensors=\"pt\",\n",
    ")\n",
    "inputs = inputs.to(\"cuda\")\n",
    "\n",
    "# default: Load the model on the available device(s)\n",
    "model = Qwen2VLForConditionalGeneration.from_pretrained(\n",
    "    \"Qwen/Qwen2-VL-7B-Instruct\", torch_dtype=\"auto\", device_map=\"auto\"\n",
    ")\n",
    "\n",
    "# Inference: Generation of the output\n",
    "generated_ids = model.generate(**inputs, max_new_tokens=128)\n",
    "model.print_time()\n",
    "generated_ids_trimmed = [\n",
    "    out_ids[len(in_ids) :] for in_ids, out_ids in zip(inputs.input_ids, generated_ids)\n",
    "]\n",
    "output_text = processor.batch_decode(\n",
    "    generated_ids_trimmed, skip_special_tokens=True, clean_up_tokenization_spaces=False\n",
    ")\n",
    "print(output_text)"
   ]
  },
  {
   "cell_type": "markdown",
   "metadata": {},
   "source": [
    "# Baseline Evaluation"
   ]
  },
  {
   "cell_type": "code",
   "execution_count": null,
   "metadata": {},
   "outputs": [],
   "source": [
    "%load_ext autoreload\n",
    "%autoreload 2\n",
    "\n",
    "import torch\n",
    "from transformers import Qwen2VLConfig, Qwen2VLForConditionalGeneration, TrainingArguments, Trainer, AutoProcessor\n",
    "import evaluate\n",
    "import numpy as np\n",
    "from datasets import load_dataset\n",
    "import time\n",
    "\n",
    "import baseline\n",
    "import efficient\n",
    "from utils import get_dataset, train"
   ]
  },
  {
   "cell_type": "markdown",
   "metadata": {},
   "source": [
    "Make dataset"
   ]
  },
  {
   "cell_type": "code",
   "execution_count": null,
   "metadata": {},
   "outputs": [],
   "source": [
    "min_pixels = 16*28*28\n",
    "max_pixels = 80*28*28\n",
    "processor = AutoProcessor.from_pretrained(\"Qwen/Qwen2-VL-7B-Instruct\", min_pixels=min_pixels, max_pixels=max_pixels)\n",
    "\n",
    "messages = [{\n",
    "    \"role\": \"user\",\n",
    "    \"content\": [\n",
    "        {\"type\": \"image\"},\n",
    "    ],\n",
    "}]\n",
    "\n",
    "text = processor.apply_chat_template(\n",
    "    messages, tokenize=False, add_generation_prompt=True\n",
    ")\n",
    "\n",
    "datasets = load_dataset(\"mnist\", cache_dir='.cache')\n",
    "train_dataset = datasets[\"train\"].select(range(1000))\n",
    "test_dataset = datasets[\"test\"].select(range(100))\n",
    "\n",
    "def process_function(datum):\n",
    "    return processor(text=text, images=datum[\"image\"], videos=None, padding=True, return_tensors=\"pt\")\n",
    "\n",
    "train_dataset = train_dataset.map(process_function, batched=False).shuffle(seed=1512)\n",
    "test_dataset = test_dataset.map(process_function, batched=False).shuffle(seed=1512)"
   ]
  },
  {
   "cell_type": "markdown",
   "metadata": {},
   "source": [
    "Train and evaluate baseline model"
   ]
  },
  {
   "cell_type": "code",
   "execution_count": null,
   "metadata": {},
   "outputs": [],
   "source": [
    "baseline_config = Qwen2VLConfig(\n",
    "    hidden_size=16,\n",
    "    intermediate_size=128,\n",
    "    num_hidden_layers=3,\n",
    "    num_attention_heads=8,\n",
    "    rope_scaling={\"mrope_section\": [1, 1, 2], \"type\": \"mrope\"},\n",
    "    vision_config={\"hidden_size\": 64,\n",
    "                   \"in_channels\": 3,\n",
    "                   \"embed_dim\": 64,\n",
    "                   \"num_heads\": 1,\n",
    "                   \"spatial_merge_size\": 2,\n",
    "                   \"patch_size\": 14,\n",
    "                   \"temporal_patch_size\": 2,\n",
    "                   \"depth\": 3,\n",
    "                   \"vocab_size\": 10,\n",
    "                   \"spatial_merge_size\": 2},\n",
    "    _name_or_path=\"baseline\",\n",
    "    image_token_id=151655,\n",
    ")\n",
    "\n",
    "#print(baseline_config)\n",
    "\n",
    "baseline_model = baseline.Qwen2VLBaseline(baseline_config.vision_config)"
   ]
  },
  {
   "cell_type": "code",
   "execution_count": null,
   "metadata": {},
   "outputs": [],
   "source": [
    "print(train_dataset)"
   ]
  },
  {
   "cell_type": "code",
   "execution_count": null,
   "metadata": {},
   "outputs": [],
   "source": [
    "class Args:\n",
    "    device = \"cpu\"\n",
    "    lr_net = 0.005\n",
    "    epoch_eval_train = 10\n",
    "\n",
    "args = Args()"
   ]
  },
  {
   "cell_type": "code",
   "execution_count": null,
   "metadata": {},
   "outputs": [],
   "source": [
    "train(0, baseline_model, train_dataset, test_dataset, args)"
   ]
  },
  {
   "cell_type": "markdown",
   "metadata": {},
   "source": [
    "Train and evaluate efficient model"
   ]
  },
  {
   "cell_type": "code",
   "execution_count": null,
   "metadata": {},
   "outputs": [],
   "source": [
    "efficient_config = Qwen2VLConfig(\n",
    "    hidden_size=16,\n",
    "    intermediate_size=128,\n",
    "    num_hidden_layers=3,\n",
    "    num_attention_heads=8,\n",
    "    rope_scaling={\"mrope_section\": [1, 1, 2], \"type\": \"mrope\"},\n",
    "    vision_config={\"hidden_size\": 64,\n",
    "                   \"in_channels\": 3,\n",
    "                   \"embed_dim\": 64,\n",
    "                   \"num_heads\": 1,\n",
    "                   \"spatial_merge_size\": 2,\n",
    "                   \"patch_size\": 14,\n",
    "                   \"temporal_patch_size\": 2,\n",
    "                   \"depth\": 3,\n",
    "                   \"vocab_size\": 10,\n",
    "                   \"spatial_merge_size\": 2},\n",
    "    _name_or_path=\"efficient\",\n",
    "    image_token_id=151655,\n",
    ")\n",
    "\n",
    "efficient_model = efficient.Qwen2VLEfficient(efficient_config.vision_config)"
   ]
  },
  {
   "cell_type": "code",
   "execution_count": null,
   "metadata": {},
   "outputs": [],
   "source": [
    "class Args:\n",
    "    device = \"cuda\"\n",
    "    lr_net = 0.005\n",
    "    epoch_eval_train = 10\n",
    "\n",
    "args = Args()"
   ]
  },
  {
   "cell_type": "code",
   "execution_count": null,
   "metadata": {},
   "outputs": [],
   "source": [
    "train(0, efficient_model, train_dataset, test_dataset, args)"
   ]
  },
  {
   "cell_type": "code",
   "execution_count": null,
   "metadata": {},
   "outputs": [],
   "source": [
    "x = torch.randn([64,64]).numpy()\n",
    "np.sum(np.abs(x), 0)"
   ]
  },
  {
   "cell_type": "code",
   "execution_count": null,
   "metadata": {},
   "outputs": [],
   "source": [
    "most_impactful = np.argpartition(np.sum(np.abs(x), 0), 32)[32:]\n",
    "x[most_impactful]"
   ]
  }
 ],
 "metadata": {
  "kernelspec": {
   "display_name": "Python 3",
   "language": "python",
   "name": "python3"
  },
  "language_info": {
   "codemirror_mode": {
    "name": "ipython",
    "version": 3
   },
   "file_extension": ".py",
   "mimetype": "text/x-python",
   "name": "python",
   "nbconvert_exporter": "python",
   "pygments_lexer": "ipython3",
   "version": "3.10.5"
  }
 },
 "nbformat": 4,
 "nbformat_minor": 2
}
